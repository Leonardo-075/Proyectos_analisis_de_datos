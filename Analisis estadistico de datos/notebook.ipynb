{
 "cells": [
  {
   "cell_type": "markdown",
   "metadata": {
    "id": "3rYiDeEH0q0f"
   },
   "source": [
    "# ¿Cuál es la mejor tarifa?\n",
    "\n",
    "Trabajas como analista para el operador de telecomunicaciones Megaline. La empresa ofrece a sus clientes dos tarifas de prepago, Surf y Ultimate. El departamento comercial quiere saber cuál de las tarifas genera más ingresos para poder ajustar el presupuesto de publicidad.\n",
    "\n",
    "Vas a realizar un análisis preliminar de las tarifas basado en una selección de clientes relativamente pequeña. Tendrás los datos de 500 clientes de Megaline: quiénes son los clientes, de dónde son, qué tarifa usan, así como la cantidad de llamadas que hicieron y los mensajes de texto que enviaron en 2018. Tu trabajo es analizar el comportamiento de los clientes y determinar qué tarifa de prepago genera más ingresos."
   ]
  },
  {
   "cell_type": "markdown",
   "metadata": {
    "id": "VNddPNRQ0q0w"
   },
   "source": [
    "[Te proporcionamos algunos comentarios para orientarte mientras completas este proyecto. Pero debes asegurarte de eliminar todos los comentarios entre corchetes antes de entregar tu proyecto.]\n",
    "\n",
    "[Antes de sumergirte en el análisis de datos, explica por tu propia cuenta el propósito del proyecto y las acciones que planeas realizar.]\n",
    "\n",
    "[Ten en cuenta que estudiar, modificar y analizar datos es un proceso iterativo. Es normal volver a los pasos anteriores y corregirlos/ampliarlos para permitir nuevos pasos.]"
   ]
  },
  {
   "cell_type": "markdown",
   "metadata": {
    "id": "MQi4IPy70q0y"
   },
   "source": [
    "## Inicialización"
   ]
  },
  {
   "cell_type": "code",
   "execution_count": 14,
   "metadata": {
    "id": "MtYIuBxu0q0z"
   },
   "outputs": [],
   "source": [
    "# Cargar todas las librerías\n",
    "import pandas as pd\n",
    "from matplotlib import pyplot as plt\n",
    "import seaborn as sns\n",
    "from scipy import stats as st\n",
    "import numpy as np"
   ]
  },
  {
   "cell_type": "markdown",
   "metadata": {
    "id": "4ysWWC5i0q00"
   },
   "source": [
    "## Cargar datos"
   ]
  },
  {
   "cell_type": "code",
   "execution_count": 15,
   "metadata": {
    "id": "CCqPW7rS0q01"
   },
   "outputs": [],
   "source": [
    "# cargar datos\n",
    "calls = pd.read_csv('megaline_calls.csv')\n",
    "internet = pd.read_csv('megaline_internet.csv')\n",
    "messages = pd.read_csv('megaline_messages.csv')\n",
    "plans = pd.read_csv('megaline_plans.csv')\n",
    "users = pd.read_csv('megaline_users.csv')  \n"
   ]
  },
  {
   "cell_type": "markdown",
   "metadata": {
    "id": "69qqoJ3r0q01"
   },
   "source": [
    "## Preparar los datos"
   ]
  },
  {
   "cell_type": "markdown",
   "metadata": {
    "id": "vUuZw80S0q01"
   },
   "source": [
    "[Los datos para este proyecto se dividen en varias tablas. Explora cada una para tener una comprensión inicial de los datos. Si es necesario, haz las correcciones requeridas en cada tabla.]"
   ]
  },
  {
   "cell_type": "markdown",
   "metadata": {
    "id": "ohBhimvH0q01"
   },
   "source": [
    "## Tarifas"
   ]
  },
  {
   "cell_type": "code",
   "execution_count": 16,
   "metadata": {
    "id": "GptqP3Q40q02"
   },
   "outputs": [
    {
     "name": "stdout",
     "output_type": "stream",
     "text": [
      "<class 'pandas.core.frame.DataFrame'>\n",
      "RangeIndex: 2 entries, 0 to 1\n",
      "Data columns (total 8 columns):\n",
      " #   Column                 Non-Null Count  Dtype  \n",
      "---  ------                 --------------  -----  \n",
      " 0   messages_included      2 non-null      int64  \n",
      " 1   mb_per_month_included  2 non-null      int64  \n",
      " 2   minutes_included       2 non-null      int64  \n",
      " 3   usd_monthly_pay        2 non-null      int64  \n",
      " 4   usd_per_gb             2 non-null      int64  \n",
      " 5   usd_per_message        2 non-null      float64\n",
      " 6   usd_per_minute         2 non-null      float64\n",
      " 7   plan_name              2 non-null      object \n",
      "dtypes: float64(2), int64(5), object(1)\n",
      "memory usage: 260.0+ bytes\n"
     ]
    }
   ],
   "source": [
    "# Imprime la información general/resumida sobre el DataFrame de las tarifas\n",
    "plans.info()"
   ]
  },
  {
   "cell_type": "code",
   "execution_count": 17,
   "metadata": {
    "id": "64xzjwL70q02"
   },
   "outputs": [
    {
     "name": "stdout",
     "output_type": "stream",
     "text": [
      "   messages_included  mb_per_month_included  minutes_included  \\\n",
      "0                 50                  15360               500   \n",
      "1               1000                  30720              3000   \n",
      "\n",
      "   usd_monthly_pay  usd_per_gb  usd_per_message  usd_per_minute plan_name  \n",
      "0               20          10             0.03            0.03      surf  \n",
      "1               70           7             0.01            0.01  ultimate  \n"
     ]
    }
   ],
   "source": [
    "# Imprime una muestra de los datos para las tarifas\n",
    "print(plans.head())"
   ]
  },
  {
   "cell_type": "markdown",
   "metadata": {
    "id": "mEc_3_hs0q02"
   },
   "source": [
    "[Describe lo que ves y observas en la información general y en la muestra de datos impresa para el precio de datos anterior. ¿Hay algún problema (tipos de datos no adecuados, datos ausentes, etc.) que pudieran necesitar investigación y cambios adicionales? ¿Cómo se puede arreglar?]\n",
    "\n",
    "*La información general muestra que ésta tabla contiene dos entradas, una para el plan surf y otra para el plan ultimate, no tiene tipos de datos inadecuados ni datos ausentes, sin embargo la columna \"usd_monthly_pay\", en la descripción aparece como \"usd_monthly_fee\", sera mejor hacer el cambio; para enriquecer los datos, también se podria cambiar la columna \"usd_per_message\" por \"usd_per_message_extra\", para determinar que se debe a exceder los límites presupuestados, igualmente con la columna de mensajes y gigas. Ahora con fines de mejorar la visualización se podria poner la columna \"plan_name\", de primer lugar.*"
   ]
  },
  {
   "cell_type": "markdown",
   "metadata": {
    "collapsed": false,
    "id": "R3C05i1l0q03",
    "jupyter": {
     "outputs_hidden": false
    }
   },
   "source": [
    "## Corregir datos"
   ]
  },
  {
   "cell_type": "markdown",
   "metadata": {
    "id": "bIi8StZI0q03"
   },
   "source": [
    "[Corrige los problemas obvios con los datos basándote en las observaciones iniciales.]"
   ]
  },
  {
   "cell_type": "code",
   "execution_count": 18,
   "metadata": {
    "id": "Y7SVmjGn0q03"
   },
   "outputs": [
    {
     "name": "stdout",
     "output_type": "stream",
     "text": [
      "Datos duplicados: 0\n",
      "\n"
     ]
    },
    {
     "data": {
      "text/html": [
       "<div>\n",
       "<style scoped>\n",
       "    .dataframe tbody tr th:only-of-type {\n",
       "        vertical-align: middle;\n",
       "    }\n",
       "\n",
       "    .dataframe tbody tr th {\n",
       "        vertical-align: top;\n",
       "    }\n",
       "\n",
       "    .dataframe thead th {\n",
       "        text-align: right;\n",
       "    }\n",
       "</style>\n",
       "<table border=\"1\" class=\"dataframe\">\n",
       "  <thead>\n",
       "    <tr style=\"text-align: right;\">\n",
       "      <th></th>\n",
       "      <th>messages_included</th>\n",
       "      <th>mb_per_month_included</th>\n",
       "      <th>minutes_included</th>\n",
       "      <th>usd_monthly_fee</th>\n",
       "      <th>usd_per_gb</th>\n",
       "      <th>usd_per_message</th>\n",
       "      <th>usd_per_minute</th>\n",
       "      <th>plan_name</th>\n",
       "    </tr>\n",
       "  </thead>\n",
       "  <tbody>\n",
       "    <tr>\n",
       "      <th>0</th>\n",
       "      <td>50</td>\n",
       "      <td>15360</td>\n",
       "      <td>500</td>\n",
       "      <td>20</td>\n",
       "      <td>10</td>\n",
       "      <td>0.03</td>\n",
       "      <td>0.03</td>\n",
       "      <td>surf</td>\n",
       "    </tr>\n",
       "    <tr>\n",
       "      <th>1</th>\n",
       "      <td>1000</td>\n",
       "      <td>30720</td>\n",
       "      <td>3000</td>\n",
       "      <td>70</td>\n",
       "      <td>7</td>\n",
       "      <td>0.01</td>\n",
       "      <td>0.01</td>\n",
       "      <td>ultimate</td>\n",
       "    </tr>\n",
       "  </tbody>\n",
       "</table>\n",
       "</div>"
      ],
      "text/plain": [
       "   messages_included  mb_per_month_included  minutes_included  \\\n",
       "0                 50                  15360               500   \n",
       "1               1000                  30720              3000   \n",
       "\n",
       "   usd_monthly_fee  usd_per_gb  usd_per_message  usd_per_minute plan_name  \n",
       "0               20          10             0.03            0.03      surf  \n",
       "1               70           7             0.01            0.01  ultimate  "
      ]
     },
     "execution_count": 18,
     "metadata": {},
     "output_type": "execute_result"
    }
   ],
   "source": [
    "print('Datos duplicados:' ,plans.duplicated().sum())\n",
    "print()\n",
    "plans = plans.rename(columns={'usd_monthly_pay':'usd_monthly_fee'})\n",
    "plans.head(2)"
   ]
  },
  {
   "cell_type": "markdown",
   "metadata": {
    "id": "LJir7bml0q03"
   },
   "source": [
    "## Enriquecer los datos"
   ]
  },
  {
   "cell_type": "markdown",
   "metadata": {
    "id": "eqADpCfg0q04"
   },
   "source": [
    "[Agrega factores adicionales a los datos si crees que pudieran ser útiles.]"
   ]
  },
  {
   "cell_type": "code",
   "execution_count": 19,
   "metadata": {
    "id": "gfcIEuXV0q04"
   },
   "outputs": [
    {
     "data": {
      "text/html": [
       "<div>\n",
       "<style scoped>\n",
       "    .dataframe tbody tr th:only-of-type {\n",
       "        vertical-align: middle;\n",
       "    }\n",
       "\n",
       "    .dataframe tbody tr th {\n",
       "        vertical-align: top;\n",
       "    }\n",
       "\n",
       "    .dataframe thead th {\n",
       "        text-align: right;\n",
       "    }\n",
       "</style>\n",
       "<table border=\"1\" class=\"dataframe\">\n",
       "  <thead>\n",
       "    <tr style=\"text-align: right;\">\n",
       "      <th></th>\n",
       "      <th>plan_name</th>\n",
       "      <th>messages_included</th>\n",
       "      <th>mb_per_month_included</th>\n",
       "      <th>minutes_included</th>\n",
       "      <th>usd_monthly_fee</th>\n",
       "      <th>usd_per_gb_extra</th>\n",
       "      <th>usd_per_message_extra</th>\n",
       "      <th>usd_per_minute_extra</th>\n",
       "    </tr>\n",
       "  </thead>\n",
       "  <tbody>\n",
       "    <tr>\n",
       "      <th>0</th>\n",
       "      <td>surf</td>\n",
       "      <td>50</td>\n",
       "      <td>15360</td>\n",
       "      <td>500</td>\n",
       "      <td>20</td>\n",
       "      <td>10</td>\n",
       "      <td>0.03</td>\n",
       "      <td>0.03</td>\n",
       "    </tr>\n",
       "    <tr>\n",
       "      <th>1</th>\n",
       "      <td>ultimate</td>\n",
       "      <td>1000</td>\n",
       "      <td>30720</td>\n",
       "      <td>3000</td>\n",
       "      <td>70</td>\n",
       "      <td>7</td>\n",
       "      <td>0.01</td>\n",
       "      <td>0.01</td>\n",
       "    </tr>\n",
       "  </tbody>\n",
       "</table>\n",
       "</div>"
      ],
      "text/plain": [
       "  plan_name  messages_included  mb_per_month_included  minutes_included  \\\n",
       "0      surf                 50                  15360               500   \n",
       "1  ultimate               1000                  30720              3000   \n",
       "\n",
       "   usd_monthly_fee  usd_per_gb_extra  usd_per_message_extra  \\\n",
       "0               20                10                   0.03   \n",
       "1               70                 7                   0.01   \n",
       "\n",
       "   usd_per_minute_extra  \n",
       "0                  0.03  \n",
       "1                  0.01  "
      ]
     },
     "execution_count": 19,
     "metadata": {},
     "output_type": "execute_result"
    }
   ],
   "source": [
    "plans = plans.rename(columns={'usd_per_gb':'usd_per_gb_extra',\n",
    "                              'usd_per_message':'usd_per_message_extra',\n",
    "                              'usd_per_minute':'usd_per_minute_extra'})\n",
    "new_order = ['plan_name'] + [col for col in plans.columns if col != 'plan_name']\n",
    "plans = plans[new_order]\n",
    "plans.sample(2)"
   ]
  },
  {
   "cell_type": "markdown",
   "metadata": {
    "id": "1n2X6WXf0q04"
   },
   "source": [
    "## Usuarios/as"
   ]
  },
  {
   "cell_type": "code",
   "execution_count": 20,
   "metadata": {
    "id": "2NgjWFqx0q05"
   },
   "outputs": [
    {
     "name": "stdout",
     "output_type": "stream",
     "text": [
      "<class 'pandas.core.frame.DataFrame'>\n",
      "RangeIndex: 500 entries, 0 to 499\n",
      "Data columns (total 8 columns):\n",
      " #   Column      Non-Null Count  Dtype \n",
      "---  ------      --------------  ----- \n",
      " 0   user_id     500 non-null    int64 \n",
      " 1   first_name  500 non-null    object\n",
      " 2   last_name   500 non-null    object\n",
      " 3   age         500 non-null    int64 \n",
      " 4   city        500 non-null    object\n",
      " 5   reg_date    500 non-null    object\n",
      " 6   plan        500 non-null    object\n",
      " 7   churn_date  34 non-null     object\n",
      "dtypes: int64(2), object(6)\n",
      "memory usage: 31.4+ KB\n"
     ]
    }
   ],
   "source": [
    "# Imprime la información general/resumida sobre el DataFrame de usuarios\n",
    "users.info()"
   ]
  },
  {
   "cell_type": "code",
   "execution_count": 21,
   "metadata": {
    "id": "1IN1L9uh0q05"
   },
   "outputs": [
    {
     "data": {
      "text/html": [
       "<div>\n",
       "<style scoped>\n",
       "    .dataframe tbody tr th:only-of-type {\n",
       "        vertical-align: middle;\n",
       "    }\n",
       "\n",
       "    .dataframe tbody tr th {\n",
       "        vertical-align: top;\n",
       "    }\n",
       "\n",
       "    .dataframe thead th {\n",
       "        text-align: right;\n",
       "    }\n",
       "</style>\n",
       "<table border=\"1\" class=\"dataframe\">\n",
       "  <thead>\n",
       "    <tr style=\"text-align: right;\">\n",
       "      <th></th>\n",
       "      <th>user_id</th>\n",
       "      <th>first_name</th>\n",
       "      <th>last_name</th>\n",
       "      <th>age</th>\n",
       "      <th>city</th>\n",
       "      <th>reg_date</th>\n",
       "      <th>plan</th>\n",
       "      <th>churn_date</th>\n",
       "    </tr>\n",
       "  </thead>\n",
       "  <tbody>\n",
       "    <tr>\n",
       "      <th>430</th>\n",
       "      <td>1430</td>\n",
       "      <td>Myung</td>\n",
       "      <td>Pugh</td>\n",
       "      <td>63</td>\n",
       "      <td>New York-Newark-Jersey City, NY-NJ-PA MSA</td>\n",
       "      <td>2018-12-07</td>\n",
       "      <td>surf</td>\n",
       "      <td>NaN</td>\n",
       "    </tr>\n",
       "    <tr>\n",
       "      <th>83</th>\n",
       "      <td>1083</td>\n",
       "      <td>Lyndia</td>\n",
       "      <td>Acevedo</td>\n",
       "      <td>65</td>\n",
       "      <td>Los Angeles-Long Beach-Anaheim, CA MSA</td>\n",
       "      <td>2018-10-26</td>\n",
       "      <td>surf</td>\n",
       "      <td>2018-12-18</td>\n",
       "    </tr>\n",
       "    <tr>\n",
       "      <th>192</th>\n",
       "      <td>1192</td>\n",
       "      <td>Korey</td>\n",
       "      <td>Goodwin</td>\n",
       "      <td>36</td>\n",
       "      <td>Buffalo-Cheektowaga, NY MSA</td>\n",
       "      <td>2018-10-02</td>\n",
       "      <td>surf</td>\n",
       "      <td>NaN</td>\n",
       "    </tr>\n",
       "    <tr>\n",
       "      <th>280</th>\n",
       "      <td>1280</td>\n",
       "      <td>Jasper</td>\n",
       "      <td>Berry</td>\n",
       "      <td>29</td>\n",
       "      <td>New York-Newark-Jersey City, NY-NJ-PA MSA</td>\n",
       "      <td>2018-06-23</td>\n",
       "      <td>surf</td>\n",
       "      <td>NaN</td>\n",
       "    </tr>\n",
       "    <tr>\n",
       "      <th>136</th>\n",
       "      <td>1136</td>\n",
       "      <td>Jasper</td>\n",
       "      <td>Caldwell</td>\n",
       "      <td>25</td>\n",
       "      <td>Knoxville, TN MSA</td>\n",
       "      <td>2018-10-14</td>\n",
       "      <td>surf</td>\n",
       "      <td>NaN</td>\n",
       "    </tr>\n",
       "  </tbody>\n",
       "</table>\n",
       "</div>"
      ],
      "text/plain": [
       "     user_id first_name last_name  age  \\\n",
       "430     1430      Myung      Pugh   63   \n",
       "83      1083     Lyndia   Acevedo   65   \n",
       "192     1192      Korey   Goodwin   36   \n",
       "280     1280     Jasper     Berry   29   \n",
       "136     1136     Jasper  Caldwell   25   \n",
       "\n",
       "                                          city    reg_date  plan  churn_date  \n",
       "430  New York-Newark-Jersey City, NY-NJ-PA MSA  2018-12-07  surf         NaN  \n",
       "83      Los Angeles-Long Beach-Anaheim, CA MSA  2018-10-26  surf  2018-12-18  \n",
       "192                Buffalo-Cheektowaga, NY MSA  2018-10-02  surf         NaN  \n",
       "280  New York-Newark-Jersey City, NY-NJ-PA MSA  2018-06-23  surf         NaN  \n",
       "136                          Knoxville, TN MSA  2018-10-14  surf         NaN  "
      ]
     },
     "execution_count": 21,
     "metadata": {},
     "output_type": "execute_result"
    }
   ],
   "source": [
    "# Imprime una muestra de datos para usuarios\n",
    "users.sample(5)"
   ]
  },
  {
   "cell_type": "markdown",
   "metadata": {
    "id": "dCZoUq4f0q06"
   },
   "source": [
    "[Describe lo que ves y observas en la información general y en la muestra de datos impresa para el precio de datos anterior. ¿Hay algún problema (tipos de datos no adecuados, datos ausentes, etc.) que pudieran necesitar investigación y cambios adicionales? ¿Cómo se puede arreglar?]\n",
    "\n",
    "*Esta tabla presenta la información principal de los usuarios y no contiene datos duplicados; sin embargo existe una gran cantidad de datos nulos en la columna \"churn_date\", dado que es la fecha donde el usuario dejo de usar el servicio, asi que reemplazaré estos datos por \"aún activo\", también modificaré el tipo de dato de la columna user_id a object asi como el de la columna reg_dte a datetime. Para enriquecer los datos modificaré los nombres de las columnas age y plan a user_age y plan_name respectivamente.*"
   ]
  },
  {
   "cell_type": "markdown",
   "metadata": {
    "id": "BX5FQh_I0q06"
   },
   "source": [
    "### Corregir los datos"
   ]
  },
  {
   "cell_type": "markdown",
   "metadata": {
    "id": "8OdKMwJv0q06"
   },
   "source": [
    "[Corrige los problemas obvios con los datos basándote en las observaciones iniciales.]"
   ]
  },
  {
   "cell_type": "code",
   "execution_count": 56,
   "metadata": {
    "id": "yUqX-K0C0q07"
   },
   "outputs": [
    {
     "name": "stdout",
     "output_type": "stream",
     "text": [
      "Datos duplicados: 0\n",
      "\n",
      "El tipo de dato de la columna user_id ahora es: object\n",
      "El tipo de dato de la columna reg_date ahora es: datetime64[ns]\n",
      "\n"
     ]
    },
    {
     "data": {
      "text/html": [
       "<div>\n",
       "<style scoped>\n",
       "    .dataframe tbody tr th:only-of-type {\n",
       "        vertical-align: middle;\n",
       "    }\n",
       "\n",
       "    .dataframe tbody tr th {\n",
       "        vertical-align: top;\n",
       "    }\n",
       "\n",
       "    .dataframe thead th {\n",
       "        text-align: right;\n",
       "    }\n",
       "</style>\n",
       "<table border=\"1\" class=\"dataframe\">\n",
       "  <thead>\n",
       "    <tr style=\"text-align: right;\">\n",
       "      <th></th>\n",
       "      <th>user_id</th>\n",
       "      <th>first_name</th>\n",
       "      <th>last_name</th>\n",
       "      <th>user_age</th>\n",
       "      <th>city</th>\n",
       "      <th>reg_date</th>\n",
       "      <th>plan_name</th>\n",
       "      <th>churn_date</th>\n",
       "    </tr>\n",
       "  </thead>\n",
       "  <tbody>\n",
       "    <tr>\n",
       "      <th>230</th>\n",
       "      <td>1230</td>\n",
       "      <td>Andre</td>\n",
       "      <td>Estes</td>\n",
       "      <td>38</td>\n",
       "      <td>New York-Newark-Jersey City, NY-NJ-PA MSA</td>\n",
       "      <td>2018-02-27</td>\n",
       "      <td>ultimate</td>\n",
       "      <td>still_active</td>\n",
       "    </tr>\n",
       "    <tr>\n",
       "      <th>119</th>\n",
       "      <td>1119</td>\n",
       "      <td>Anderson</td>\n",
       "      <td>Palmer</td>\n",
       "      <td>60</td>\n",
       "      <td>Louisville/Jefferson County, KY-IN MSA</td>\n",
       "      <td>2018-10-05</td>\n",
       "      <td>surf</td>\n",
       "      <td>still_active</td>\n",
       "    </tr>\n",
       "    <tr>\n",
       "      <th>254</th>\n",
       "      <td>1254</td>\n",
       "      <td>Billy</td>\n",
       "      <td>Webb</td>\n",
       "      <td>49</td>\n",
       "      <td>Detroit-Warren-Dearborn, MI MSA</td>\n",
       "      <td>2018-08-03</td>\n",
       "      <td>surf</td>\n",
       "      <td>still_active</td>\n",
       "    </tr>\n",
       "    <tr>\n",
       "      <th>145</th>\n",
       "      <td>1145</td>\n",
       "      <td>Venice</td>\n",
       "      <td>Brooks</td>\n",
       "      <td>29</td>\n",
       "      <td>San Jose-Sunnyvale-Santa Clara, CA MSA</td>\n",
       "      <td>2018-04-12</td>\n",
       "      <td>surf</td>\n",
       "      <td>still_active</td>\n",
       "    </tr>\n",
       "    <tr>\n",
       "      <th>114</th>\n",
       "      <td>1114</td>\n",
       "      <td>Esta</td>\n",
       "      <td>Estes</td>\n",
       "      <td>55</td>\n",
       "      <td>New York-Newark-Jersey City, NY-NJ-PA MSA</td>\n",
       "      <td>2018-07-21</td>\n",
       "      <td>surf</td>\n",
       "      <td>still_active</td>\n",
       "    </tr>\n",
       "  </tbody>\n",
       "</table>\n",
       "</div>"
      ],
      "text/plain": [
       "    user_id first_name last_name  user_age  \\\n",
       "230    1230      Andre     Estes        38   \n",
       "119    1119   Anderson    Palmer        60   \n",
       "254    1254      Billy      Webb        49   \n",
       "145    1145     Venice    Brooks        29   \n",
       "114    1114       Esta     Estes        55   \n",
       "\n",
       "                                          city   reg_date plan_name  \\\n",
       "230  New York-Newark-Jersey City, NY-NJ-PA MSA 2018-02-27  ultimate   \n",
       "119     Louisville/Jefferson County, KY-IN MSA 2018-10-05      surf   \n",
       "254            Detroit-Warren-Dearborn, MI MSA 2018-08-03      surf   \n",
       "145     San Jose-Sunnyvale-Santa Clara, CA MSA 2018-04-12      surf   \n",
       "114  New York-Newark-Jersey City, NY-NJ-PA MSA 2018-07-21      surf   \n",
       "\n",
       "       churn_date  \n",
       "230  still_active  \n",
       "119  still_active  \n",
       "254  still_active  \n",
       "145  still_active  \n",
       "114  still_active  "
      ]
     },
     "execution_count": 56,
     "metadata": {},
     "output_type": "execute_result"
    }
   ],
   "source": [
    "print('Datos duplicados:',users.duplicated().sum())\n",
    "print()\n",
    "users['user_id'] = users['user_id'].astype('str')\n",
    "users['reg_date'] = pd.to_datetime(users['reg_date'], format='%Y-%m-%d')\n",
    "print('El tipo de dato de la columna user_id ahora es:', users['user_id'].dtype)\n",
    "print('El tipo de dato de la columna reg_date ahora es:', users['reg_date'].dtype)\n",
    "print()\n",
    "users.sample(5)"
   ]
  },
  {
   "cell_type": "markdown",
   "metadata": {
    "id": "ycwuARJp0q07"
   },
   "source": [
    "### Enriquecer los datos"
   ]
  },
  {
   "cell_type": "markdown",
   "metadata": {
    "id": "96NIh4CJ0q08"
   },
   "source": [
    "[Agrega factores adicionales a los datos si crees que pudieran ser útiles.]"
   ]
  },
  {
   "cell_type": "code",
   "execution_count": 23,
   "metadata": {
    "id": "iq0AaBS90q08"
   },
   "outputs": [
    {
     "data": {
      "text/html": [
       "<div>\n",
       "<style scoped>\n",
       "    .dataframe tbody tr th:only-of-type {\n",
       "        vertical-align: middle;\n",
       "    }\n",
       "\n",
       "    .dataframe tbody tr th {\n",
       "        vertical-align: top;\n",
       "    }\n",
       "\n",
       "    .dataframe thead th {\n",
       "        text-align: right;\n",
       "    }\n",
       "</style>\n",
       "<table border=\"1\" class=\"dataframe\">\n",
       "  <thead>\n",
       "    <tr style=\"text-align: right;\">\n",
       "      <th></th>\n",
       "      <th>user_id</th>\n",
       "      <th>first_name</th>\n",
       "      <th>last_name</th>\n",
       "      <th>user_age</th>\n",
       "      <th>city</th>\n",
       "      <th>reg_date</th>\n",
       "      <th>plan_name</th>\n",
       "      <th>churn_date</th>\n",
       "    </tr>\n",
       "  </thead>\n",
       "  <tbody>\n",
       "    <tr>\n",
       "      <th>216</th>\n",
       "      <td>1216</td>\n",
       "      <td>Reita</td>\n",
       "      <td>Atkins</td>\n",
       "      <td>29</td>\n",
       "      <td>San Francisco-Oakland-Berkeley, CA MSA</td>\n",
       "      <td>2018-06-19</td>\n",
       "      <td>surf</td>\n",
       "      <td>still_active</td>\n",
       "    </tr>\n",
       "    <tr>\n",
       "      <th>494</th>\n",
       "      <td>1494</td>\n",
       "      <td>Preston</td>\n",
       "      <td>Downs</td>\n",
       "      <td>70</td>\n",
       "      <td>New York-Newark-Jersey City, NY-NJ-PA MSA</td>\n",
       "      <td>2018-04-19</td>\n",
       "      <td>surf</td>\n",
       "      <td>still_active</td>\n",
       "    </tr>\n",
       "  </tbody>\n",
       "</table>\n",
       "</div>"
      ],
      "text/plain": [
       "    user_id first_name last_name  user_age  \\\n",
       "216    1216      Reita    Atkins        29   \n",
       "494    1494    Preston     Downs        70   \n",
       "\n",
       "                                          city   reg_date plan_name  \\\n",
       "216     San Francisco-Oakland-Berkeley, CA MSA 2018-06-19      surf   \n",
       "494  New York-Newark-Jersey City, NY-NJ-PA MSA 2018-04-19      surf   \n",
       "\n",
       "       churn_date  \n",
       "216  still_active  \n",
       "494  still_active  "
      ]
     },
     "execution_count": 23,
     "metadata": {},
     "output_type": "execute_result"
    }
   ],
   "source": [
    "users.rename(columns = {'age':'user_age', 'plan':'plan_name'}, inplace=True)\n",
    "users = users.fillna('still_active')\n",
    "users.sample(2)"
   ]
  },
  {
   "cell_type": "markdown",
   "metadata": {
    "id": "o7MeKCid0q08"
   },
   "source": [
    "## Llamadas"
   ]
  },
  {
   "cell_type": "code",
   "execution_count": 24,
   "metadata": {
    "id": "6dDlnoDm0q08"
   },
   "outputs": [
    {
     "name": "stdout",
     "output_type": "stream",
     "text": [
      "<class 'pandas.core.frame.DataFrame'>\n",
      "RangeIndex: 137735 entries, 0 to 137734\n",
      "Data columns (total 4 columns):\n",
      " #   Column     Non-Null Count   Dtype  \n",
      "---  ------     --------------   -----  \n",
      " 0   id         137735 non-null  object \n",
      " 1   user_id    137735 non-null  int64  \n",
      " 2   call_date  137735 non-null  object \n",
      " 3   duration   137735 non-null  float64\n",
      "dtypes: float64(1), int64(1), object(2)\n",
      "memory usage: 4.2+ MB\n"
     ]
    }
   ],
   "source": [
    "# Imprime la información general/resumida sobre el DataFrame de las llamadas\n",
    "calls.info()"
   ]
  },
  {
   "cell_type": "code",
   "execution_count": 25,
   "metadata": {
    "id": "kuh1vlNB0q09"
   },
   "outputs": [
    {
     "data": {
      "text/html": [
       "<div>\n",
       "<style scoped>\n",
       "    .dataframe tbody tr th:only-of-type {\n",
       "        vertical-align: middle;\n",
       "    }\n",
       "\n",
       "    .dataframe tbody tr th {\n",
       "        vertical-align: top;\n",
       "    }\n",
       "\n",
       "    .dataframe thead th {\n",
       "        text-align: right;\n",
       "    }\n",
       "</style>\n",
       "<table border=\"1\" class=\"dataframe\">\n",
       "  <thead>\n",
       "    <tr style=\"text-align: right;\">\n",
       "      <th></th>\n",
       "      <th>id</th>\n",
       "      <th>user_id</th>\n",
       "      <th>call_date</th>\n",
       "      <th>duration</th>\n",
       "    </tr>\n",
       "  </thead>\n",
       "  <tbody>\n",
       "    <tr>\n",
       "      <th>14385</th>\n",
       "      <td>1059_621</td>\n",
       "      <td>1059</td>\n",
       "      <td>2018-12-24</td>\n",
       "      <td>18.12</td>\n",
       "    </tr>\n",
       "    <tr>\n",
       "      <th>114640</th>\n",
       "      <td>1401_458</td>\n",
       "      <td>1401</td>\n",
       "      <td>2018-12-08</td>\n",
       "      <td>0.00</td>\n",
       "    </tr>\n",
       "    <tr>\n",
       "      <th>55688</th>\n",
       "      <td>1199_353</td>\n",
       "      <td>1199</td>\n",
       "      <td>2018-12-05</td>\n",
       "      <td>2.66</td>\n",
       "    </tr>\n",
       "    <tr>\n",
       "      <th>118798</th>\n",
       "      <td>1414_96</td>\n",
       "      <td>1414</td>\n",
       "      <td>2018-11-22</td>\n",
       "      <td>10.00</td>\n",
       "    </tr>\n",
       "    <tr>\n",
       "      <th>54308</th>\n",
       "      <td>1196_190</td>\n",
       "      <td>1196</td>\n",
       "      <td>2018-12-26</td>\n",
       "      <td>6.26</td>\n",
       "    </tr>\n",
       "    <tr>\n",
       "      <th>18921</th>\n",
       "      <td>1072_365</td>\n",
       "      <td>1072</td>\n",
       "      <td>2018-08-05</td>\n",
       "      <td>2.49</td>\n",
       "    </tr>\n",
       "    <tr>\n",
       "      <th>105501</th>\n",
       "      <td>1372_38</td>\n",
       "      <td>1372</td>\n",
       "      <td>2018-12-30</td>\n",
       "      <td>3.79</td>\n",
       "    </tr>\n",
       "    <tr>\n",
       "      <th>8205</th>\n",
       "      <td>1039_145</td>\n",
       "      <td>1039</td>\n",
       "      <td>2018-12-25</td>\n",
       "      <td>10.69</td>\n",
       "    </tr>\n",
       "    <tr>\n",
       "      <th>58781</th>\n",
       "      <td>1212_285</td>\n",
       "      <td>1212</td>\n",
       "      <td>2018-10-24</td>\n",
       "      <td>4.38</td>\n",
       "    </tr>\n",
       "    <tr>\n",
       "      <th>42138</th>\n",
       "      <td>1155_86</td>\n",
       "      <td>1155</td>\n",
       "      <td>2018-02-23</td>\n",
       "      <td>19.64</td>\n",
       "    </tr>\n",
       "  </tbody>\n",
       "</table>\n",
       "</div>"
      ],
      "text/plain": [
       "              id  user_id   call_date  duration\n",
       "14385   1059_621     1059  2018-12-24     18.12\n",
       "114640  1401_458     1401  2018-12-08      0.00\n",
       "55688   1199_353     1199  2018-12-05      2.66\n",
       "118798   1414_96     1414  2018-11-22     10.00\n",
       "54308   1196_190     1196  2018-12-26      6.26\n",
       "18921   1072_365     1072  2018-08-05      2.49\n",
       "105501   1372_38     1372  2018-12-30      3.79\n",
       "8205    1039_145     1039  2018-12-25     10.69\n",
       "58781   1212_285     1212  2018-10-24      4.38\n",
       "42138    1155_86     1155  2018-02-23     19.64"
      ]
     },
     "execution_count": 25,
     "metadata": {},
     "output_type": "execute_result"
    }
   ],
   "source": [
    "# Imprime una muestra de datos para las llamadas\n",
    "calls.sample(10)"
   ]
  },
  {
   "cell_type": "markdown",
   "metadata": {
    "id": "DOAxYJSx0q09"
   },
   "source": [
    "[Describe lo que ves y observas en la información general y en la muestra de datos impresa para el precio de datos anterior. ¿Hay algún problema (tipos de datos no adecuados, datos ausentes, etc.) que pudieran necesitar investigación y cambios adicionales? ¿Cómo se puede arreglar?]\n",
    "\n",
    "*Ésta tabla nos muestra la información principal de las llamadas realizadas por cada usuario, no tiene datos nulos ni datos duplicados, sin embargo será mejor cambiar el tipo de datos de la columna user_id de int a str y de la columna call_date de str a datetime, también modificaré el nombre de la columna duration a duration_call y la columna id por call_id.*"
   ]
  },
  {
   "cell_type": "markdown",
   "metadata": {
    "id": "S7hzxmbX0q0-"
   },
   "source": [
    "### Corregir los datos"
   ]
  },
  {
   "cell_type": "markdown",
   "metadata": {
    "id": "YxWyAjD20q0-"
   },
   "source": [
    "[Corrige los problemas obvios con los datos basándote en las observaciones iniciales.]"
   ]
  },
  {
   "cell_type": "code",
   "execution_count": 26,
   "metadata": {
    "id": "S2r8xA4f0q0-"
   },
   "outputs": [
    {
     "name": "stdout",
     "output_type": "stream",
     "text": [
      "Datos duplicados: 0\n",
      "\n",
      "id                   object\n",
      "user_id              object\n",
      "call_date    datetime64[ns]\n",
      "duration            float64\n",
      "dtype: object\n"
     ]
    }
   ],
   "source": [
    "print('Datos duplicados:',calls.duplicated().sum())\n",
    "print()\n",
    "calls['user_id'] = calls['user_id'].astype('str')\n",
    "calls['call_date'] = pd.to_datetime(calls['call_date'], format='%Y-%m-%d')\n",
    "print(calls.dtypes)"
   ]
  },
  {
   "cell_type": "markdown",
   "metadata": {
    "id": "KrMgTrlG0q0_"
   },
   "source": [
    "### Enriquecer los datos"
   ]
  },
  {
   "cell_type": "markdown",
   "metadata": {
    "id": "a9MbmEvE0q0_"
   },
   "source": [
    "[Agrega factores adicionales a los datos si crees que pudieran ser útiles.]"
   ]
  },
  {
   "cell_type": "code",
   "execution_count": 27,
   "metadata": {
    "id": "iZ1avpA_0q0_"
   },
   "outputs": [
    {
     "data": {
      "text/html": [
       "<div>\n",
       "<style scoped>\n",
       "    .dataframe tbody tr th:only-of-type {\n",
       "        vertical-align: middle;\n",
       "    }\n",
       "\n",
       "    .dataframe tbody tr th {\n",
       "        vertical-align: top;\n",
       "    }\n",
       "\n",
       "    .dataframe thead th {\n",
       "        text-align: right;\n",
       "    }\n",
       "</style>\n",
       "<table border=\"1\" class=\"dataframe\">\n",
       "  <thead>\n",
       "    <tr style=\"text-align: right;\">\n",
       "      <th></th>\n",
       "      <th>call_id</th>\n",
       "      <th>user_id</th>\n",
       "      <th>call_date</th>\n",
       "      <th>call_duration</th>\n",
       "    </tr>\n",
       "  </thead>\n",
       "  <tbody>\n",
       "    <tr>\n",
       "      <th>115936</th>\n",
       "      <td>1406_162</td>\n",
       "      <td>1406</td>\n",
       "      <td>2018-12-26</td>\n",
       "      <td>10.68</td>\n",
       "    </tr>\n",
       "    <tr>\n",
       "      <th>31863</th>\n",
       "      <td>1120_233</td>\n",
       "      <td>1120</td>\n",
       "      <td>2018-05-30</td>\n",
       "      <td>17.27</td>\n",
       "    </tr>\n",
       "  </tbody>\n",
       "</table>\n",
       "</div>"
      ],
      "text/plain": [
       "         call_id user_id  call_date  call_duration\n",
       "115936  1406_162    1406 2018-12-26          10.68\n",
       "31863   1120_233    1120 2018-05-30          17.27"
      ]
     },
     "execution_count": 27,
     "metadata": {},
     "output_type": "execute_result"
    }
   ],
   "source": [
    "calls = calls.rename(columns={'duration':'call_duration', 'id':'call_id'})\n",
    "calls.sample(2)"
   ]
  },
  {
   "cell_type": "markdown",
   "metadata": {
    "id": "mOUZSi180q0_"
   },
   "source": [
    "## Mensajes"
   ]
  },
  {
   "cell_type": "code",
   "execution_count": 28,
   "metadata": {
    "id": "R-bYJpdV0q1A"
   },
   "outputs": [
    {
     "name": "stdout",
     "output_type": "stream",
     "text": [
      "<class 'pandas.core.frame.DataFrame'>\n",
      "RangeIndex: 76051 entries, 0 to 76050\n",
      "Data columns (total 3 columns):\n",
      " #   Column        Non-Null Count  Dtype \n",
      "---  ------        --------------  ----- \n",
      " 0   id            76051 non-null  object\n",
      " 1   user_id       76051 non-null  int64 \n",
      " 2   message_date  76051 non-null  object\n",
      "dtypes: int64(1), object(2)\n",
      "memory usage: 1.7+ MB\n"
     ]
    }
   ],
   "source": [
    "# Imprime la información general/resumida sobre el DataFrame de los mensajes\n",
    "messages.info()"
   ]
  },
  {
   "cell_type": "code",
   "execution_count": 29,
   "metadata": {
    "id": "mCEl2iGE0q1A"
   },
   "outputs": [
    {
     "data": {
      "text/html": [
       "<div>\n",
       "<style scoped>\n",
       "    .dataframe tbody tr th:only-of-type {\n",
       "        vertical-align: middle;\n",
       "    }\n",
       "\n",
       "    .dataframe tbody tr th {\n",
       "        vertical-align: top;\n",
       "    }\n",
       "\n",
       "    .dataframe thead th {\n",
       "        text-align: right;\n",
       "    }\n",
       "</style>\n",
       "<table border=\"1\" class=\"dataframe\">\n",
       "  <thead>\n",
       "    <tr style=\"text-align: right;\">\n",
       "      <th></th>\n",
       "      <th>id</th>\n",
       "      <th>user_id</th>\n",
       "      <th>message_date</th>\n",
       "    </tr>\n",
       "  </thead>\n",
       "  <tbody>\n",
       "    <tr>\n",
       "      <th>72015</th>\n",
       "      <td>1467_347</td>\n",
       "      <td>1467</td>\n",
       "      <td>2018-08-20</td>\n",
       "    </tr>\n",
       "    <tr>\n",
       "      <th>9934</th>\n",
       "      <td>1075_189</td>\n",
       "      <td>1075</td>\n",
       "      <td>2018-10-27</td>\n",
       "    </tr>\n",
       "    <tr>\n",
       "      <th>60114</th>\n",
       "      <td>1381_227</td>\n",
       "      <td>1381</td>\n",
       "      <td>2018-09-30</td>\n",
       "    </tr>\n",
       "    <tr>\n",
       "      <th>3481</th>\n",
       "      <td>1036_316</td>\n",
       "      <td>1036</td>\n",
       "      <td>2018-10-22</td>\n",
       "    </tr>\n",
       "    <tr>\n",
       "      <th>69135</th>\n",
       "      <td>1448_224</td>\n",
       "      <td>1448</td>\n",
       "      <td>2018-11-14</td>\n",
       "    </tr>\n",
       "    <tr>\n",
       "      <th>70428</th>\n",
       "      <td>1458_95</td>\n",
       "      <td>1458</td>\n",
       "      <td>2018-12-17</td>\n",
       "    </tr>\n",
       "    <tr>\n",
       "      <th>8273</th>\n",
       "      <td>1061_279</td>\n",
       "      <td>1061</td>\n",
       "      <td>2018-12-18</td>\n",
       "    </tr>\n",
       "    <tr>\n",
       "      <th>58805</th>\n",
       "      <td>1373_223</td>\n",
       "      <td>1373</td>\n",
       "      <td>2018-12-22</td>\n",
       "    </tr>\n",
       "    <tr>\n",
       "      <th>57839</th>\n",
       "      <td>1364_171</td>\n",
       "      <td>1364</td>\n",
       "      <td>2018-12-14</td>\n",
       "    </tr>\n",
       "    <tr>\n",
       "      <th>52763</th>\n",
       "      <td>1337_7</td>\n",
       "      <td>1337</td>\n",
       "      <td>2018-12-27</td>\n",
       "    </tr>\n",
       "  </tbody>\n",
       "</table>\n",
       "</div>"
      ],
      "text/plain": [
       "             id  user_id message_date\n",
       "72015  1467_347     1467   2018-08-20\n",
       "9934   1075_189     1075   2018-10-27\n",
       "60114  1381_227     1381   2018-09-30\n",
       "3481   1036_316     1036   2018-10-22\n",
       "69135  1448_224     1448   2018-11-14\n",
       "70428   1458_95     1458   2018-12-17\n",
       "8273   1061_279     1061   2018-12-18\n",
       "58805  1373_223     1373   2018-12-22\n",
       "57839  1364_171     1364   2018-12-14\n",
       "52763    1337_7     1337   2018-12-27"
      ]
     },
     "execution_count": 29,
     "metadata": {},
     "output_type": "execute_result"
    }
   ],
   "source": [
    "# Imprime una muestra de datos para los mensajes\n",
    "messages.sample(10)"
   ]
  },
  {
   "cell_type": "markdown",
   "metadata": {
    "id": "04xDj7KH0q1A"
   },
   "source": [
    "[Describe lo que ves y observas en la información general y en la muestra de datos impresa para el precio de datos anterior. ¿Hay algún problema (tipos de datos no adecuados, datos ausentes, etc.) que pudieran necesitar investigación y cambios adicionales? ¿Cómo se puede arreglar?]\n",
    "\n",
    "*Ésta tabla contiene la información de fecha y usuario acerca de los mensajes, no tiene datos nulos ni duplicados. Le corregiré el tipo de dato a la columna user_id y a la columna message_date, también le modificaré el nombre a la columna id por message_id.*"
   ]
  },
  {
   "cell_type": "markdown",
   "metadata": {
    "id": "Sprfak900q1B"
   },
   "source": [
    "### Corregir los datos"
   ]
  },
  {
   "cell_type": "markdown",
   "metadata": {
    "id": "eGw7d9j10q1B"
   },
   "source": [
    "[Corrige los problemas obvios con los datos basándote en las observaciones iniciales.]"
   ]
  },
  {
   "cell_type": "code",
   "execution_count": 30,
   "metadata": {
    "id": "vsllvkoa0q1B"
   },
   "outputs": [
    {
     "name": "stdout",
     "output_type": "stream",
     "text": [
      "Datos duplicados: 0\n",
      "\n",
      "id                      object\n",
      "user_id                 object\n",
      "message_date    datetime64[ns]\n",
      "dtype: object\n"
     ]
    }
   ],
   "source": [
    "print('Datos duplicados:' ,messages.duplicated().sum())\n",
    "print()\n",
    "messages['user_id'] = messages['user_id'].astype('str')\n",
    "messages['message_date'] = pd.to_datetime(messages['message_date'], format='%Y-%m-%d')\n",
    "print(messages.dtypes)"
   ]
  },
  {
   "cell_type": "markdown",
   "metadata": {
    "id": "HvLid7iD0q1B"
   },
   "source": [
    "### Enriquecer los datos"
   ]
  },
  {
   "cell_type": "markdown",
   "metadata": {
    "id": "8nhPFKIe0q1C"
   },
   "source": [
    "[Agrega factores adicionales a los datos si crees que pudieran ser útiles.]"
   ]
  },
  {
   "cell_type": "code",
   "execution_count": 31,
   "metadata": {
    "id": "zYEXZac10q1C"
   },
   "outputs": [
    {
     "data": {
      "text/html": [
       "<div>\n",
       "<style scoped>\n",
       "    .dataframe tbody tr th:only-of-type {\n",
       "        vertical-align: middle;\n",
       "    }\n",
       "\n",
       "    .dataframe tbody tr th {\n",
       "        vertical-align: top;\n",
       "    }\n",
       "\n",
       "    .dataframe thead th {\n",
       "        text-align: right;\n",
       "    }\n",
       "</style>\n",
       "<table border=\"1\" class=\"dataframe\">\n",
       "  <thead>\n",
       "    <tr style=\"text-align: right;\">\n",
       "      <th></th>\n",
       "      <th>message_id</th>\n",
       "      <th>user_id</th>\n",
       "      <th>message_date</th>\n",
       "    </tr>\n",
       "  </thead>\n",
       "  <tbody>\n",
       "    <tr>\n",
       "      <th>64215</th>\n",
       "      <td>1408_340</td>\n",
       "      <td>1408</td>\n",
       "      <td>2018-10-30</td>\n",
       "    </tr>\n",
       "    <tr>\n",
       "      <th>67735</th>\n",
       "      <td>1439_129</td>\n",
       "      <td>1439</td>\n",
       "      <td>2018-09-18</td>\n",
       "    </tr>\n",
       "  </tbody>\n",
       "</table>\n",
       "</div>"
      ],
      "text/plain": [
       "      message_id user_id message_date\n",
       "64215   1408_340    1408   2018-10-30\n",
       "67735   1439_129    1439   2018-09-18"
      ]
     },
     "execution_count": 31,
     "metadata": {},
     "output_type": "execute_result"
    }
   ],
   "source": [
    "messages = messages.rename(columns = {'id':'message_id'})\n",
    "messages.sample(2)"
   ]
  },
  {
   "cell_type": "markdown",
   "metadata": {
    "id": "bStkaxn40q1C"
   },
   "source": [
    "## Internet"
   ]
  },
  {
   "cell_type": "code",
   "execution_count": 32,
   "metadata": {
    "id": "e-Uz5qyn0q1C"
   },
   "outputs": [
    {
     "name": "stdout",
     "output_type": "stream",
     "text": [
      "<class 'pandas.core.frame.DataFrame'>\n",
      "RangeIndex: 104825 entries, 0 to 104824\n",
      "Data columns (total 4 columns):\n",
      " #   Column        Non-Null Count   Dtype  \n",
      "---  ------        --------------   -----  \n",
      " 0   id            104825 non-null  object \n",
      " 1   user_id       104825 non-null  int64  \n",
      " 2   session_date  104825 non-null  object \n",
      " 3   mb_used       104825 non-null  float64\n",
      "dtypes: float64(1), int64(1), object(2)\n",
      "memory usage: 3.2+ MB\n"
     ]
    }
   ],
   "source": [
    "# Imprime la información general/resumida sobre el DataFrame de internet\n",
    "internet.info()"
   ]
  },
  {
   "cell_type": "code",
   "execution_count": 33,
   "metadata": {
    "id": "9r3x_XLw0q1C"
   },
   "outputs": [
    {
     "data": {
      "text/html": [
       "<div>\n",
       "<style scoped>\n",
       "    .dataframe tbody tr th:only-of-type {\n",
       "        vertical-align: middle;\n",
       "    }\n",
       "\n",
       "    .dataframe tbody tr th {\n",
       "        vertical-align: top;\n",
       "    }\n",
       "\n",
       "    .dataframe thead th {\n",
       "        text-align: right;\n",
       "    }\n",
       "</style>\n",
       "<table border=\"1\" class=\"dataframe\">\n",
       "  <thead>\n",
       "    <tr style=\"text-align: right;\">\n",
       "      <th></th>\n",
       "      <th>id</th>\n",
       "      <th>user_id</th>\n",
       "      <th>session_date</th>\n",
       "      <th>mb_used</th>\n",
       "    </tr>\n",
       "  </thead>\n",
       "  <tbody>\n",
       "    <tr>\n",
       "      <th>45696</th>\n",
       "      <td>1203_21</td>\n",
       "      <td>1203</td>\n",
       "      <td>2018-12-20</td>\n",
       "      <td>0.00</td>\n",
       "    </tr>\n",
       "    <tr>\n",
       "      <th>102853</th>\n",
       "      <td>1492_86</td>\n",
       "      <td>1492</td>\n",
       "      <td>2018-10-15</td>\n",
       "      <td>312.68</td>\n",
       "    </tr>\n",
       "    <tr>\n",
       "      <th>73371</th>\n",
       "      <td>1345_36</td>\n",
       "      <td>1345</td>\n",
       "      <td>2018-11-26</td>\n",
       "      <td>565.97</td>\n",
       "    </tr>\n",
       "    <tr>\n",
       "      <th>56450</th>\n",
       "      <td>1255_114</td>\n",
       "      <td>1255</td>\n",
       "      <td>2018-08-26</td>\n",
       "      <td>236.78</td>\n",
       "    </tr>\n",
       "    <tr>\n",
       "      <th>82554</th>\n",
       "      <td>1385_305</td>\n",
       "      <td>1385</td>\n",
       "      <td>2018-11-15</td>\n",
       "      <td>865.45</td>\n",
       "    </tr>\n",
       "    <tr>\n",
       "      <th>88680</th>\n",
       "      <td>1408_399</td>\n",
       "      <td>1408</td>\n",
       "      <td>2018-04-15</td>\n",
       "      <td>508.94</td>\n",
       "    </tr>\n",
       "    <tr>\n",
       "      <th>72746</th>\n",
       "      <td>1338_148</td>\n",
       "      <td>1338</td>\n",
       "      <td>2018-12-01</td>\n",
       "      <td>460.55</td>\n",
       "    </tr>\n",
       "    <tr>\n",
       "      <th>88890</th>\n",
       "      <td>1409_213</td>\n",
       "      <td>1409</td>\n",
       "      <td>2018-11-03</td>\n",
       "      <td>172.04</td>\n",
       "    </tr>\n",
       "    <tr>\n",
       "      <th>36781</th>\n",
       "      <td>1165_233</td>\n",
       "      <td>1165</td>\n",
       "      <td>2018-11-10</td>\n",
       "      <td>31.03</td>\n",
       "    </tr>\n",
       "    <tr>\n",
       "      <th>40330</th>\n",
       "      <td>1181_551</td>\n",
       "      <td>1181</td>\n",
       "      <td>2018-05-05</td>\n",
       "      <td>302.51</td>\n",
       "    </tr>\n",
       "  </tbody>\n",
       "</table>\n",
       "</div>"
      ],
      "text/plain": [
       "              id  user_id session_date  mb_used\n",
       "45696    1203_21     1203   2018-12-20     0.00\n",
       "102853   1492_86     1492   2018-10-15   312.68\n",
       "73371    1345_36     1345   2018-11-26   565.97\n",
       "56450   1255_114     1255   2018-08-26   236.78\n",
       "82554   1385_305     1385   2018-11-15   865.45\n",
       "88680   1408_399     1408   2018-04-15   508.94\n",
       "72746   1338_148     1338   2018-12-01   460.55\n",
       "88890   1409_213     1409   2018-11-03   172.04\n",
       "36781   1165_233     1165   2018-11-10    31.03\n",
       "40330   1181_551     1181   2018-05-05   302.51"
      ]
     },
     "execution_count": 33,
     "metadata": {},
     "output_type": "execute_result"
    }
   ],
   "source": [
    "# Imprime una muestra de datos para el tráfico de internet\n",
    "internet.sample(10)"
   ]
  },
  {
   "cell_type": "markdown",
   "metadata": {
    "id": "EzOG5ik30q1D"
   },
   "source": [
    "[Describe lo que ves y observas en la información general y en la muestra de datos impresa para el precio de datos anterior. ¿Hay algún problema (tipos de datos no adecuados, datos ausentes, etc.) que pudieran necesitar investigación y cambios adicionales? ¿Cómo se puede arreglar?]\n",
    "\n",
    "*Ésta tabla muestra información acerca de las sesiones web de cada usuario, no tiene datos nulos ni datos duplicados, sin embargo para tener un mejor manejo de la información le cambiaré el tipo de datos de la columna user_id a str y de la columna sesion_date a datetime, también modificaré el nombre de la columna id por session_id.*"
   ]
  },
  {
   "cell_type": "markdown",
   "metadata": {
    "id": "yA0tkPFg0q1D"
   },
   "source": [
    "### Corregir los datos"
   ]
  },
  {
   "cell_type": "markdown",
   "metadata": {
    "id": "zlZMuIEK0q1D"
   },
   "source": [
    "[Corrige los problemas obvios con los datos basándote en las observaciones iniciales.]"
   ]
  },
  {
   "cell_type": "code",
   "execution_count": 34,
   "metadata": {
    "id": "zVeanzdd0q1E"
   },
   "outputs": [
    {
     "name": "stdout",
     "output_type": "stream",
     "text": [
      "Datos duplicados: 0\n",
      "\n",
      "id                      object\n",
      "user_id                 object\n",
      "session_date    datetime64[ns]\n",
      "mb_used                float64\n",
      "dtype: object\n"
     ]
    }
   ],
   "source": [
    "print('Datos duplicados:' ,internet.duplicated().sum())\n",
    "print()\n",
    "internet['user_id'] = internet['user_id'].astype('str')\n",
    "internet['session_date'] = pd.to_datetime(internet['session_date'], format='%Y-%m-%d')\n",
    "print(internet.dtypes)"
   ]
  },
  {
   "cell_type": "markdown",
   "metadata": {
    "id": "e8_mLF4a0q1E"
   },
   "source": [
    "### Enriquecer los datos"
   ]
  },
  {
   "cell_type": "markdown",
   "metadata": {
    "id": "xhNdn2tE0q1E"
   },
   "source": [
    "[Agrega factores adicionales a los datos si crees que pudieran ser útiles.]"
   ]
  },
  {
   "cell_type": "code",
   "execution_count": 35,
   "metadata": {
    "id": "ESiYPIEK0q1E"
   },
   "outputs": [
    {
     "data": {
      "text/html": [
       "<div>\n",
       "<style scoped>\n",
       "    .dataframe tbody tr th:only-of-type {\n",
       "        vertical-align: middle;\n",
       "    }\n",
       "\n",
       "    .dataframe tbody tr th {\n",
       "        vertical-align: top;\n",
       "    }\n",
       "\n",
       "    .dataframe thead th {\n",
       "        text-align: right;\n",
       "    }\n",
       "</style>\n",
       "<table border=\"1\" class=\"dataframe\">\n",
       "  <thead>\n",
       "    <tr style=\"text-align: right;\">\n",
       "      <th></th>\n",
       "      <th>session_id</th>\n",
       "      <th>user_id</th>\n",
       "      <th>session_date</th>\n",
       "      <th>mb_used</th>\n",
       "    </tr>\n",
       "  </thead>\n",
       "  <tbody>\n",
       "    <tr>\n",
       "      <th>84668</th>\n",
       "      <td>1395_33</td>\n",
       "      <td>1395</td>\n",
       "      <td>2018-12-25</td>\n",
       "      <td>132.63</td>\n",
       "    </tr>\n",
       "    <tr>\n",
       "      <th>65090</th>\n",
       "      <td>1299_378</td>\n",
       "      <td>1299</td>\n",
       "      <td>2018-03-19</td>\n",
       "      <td>365.55</td>\n",
       "    </tr>\n",
       "  </tbody>\n",
       "</table>\n",
       "</div>"
      ],
      "text/plain": [
       "      session_id user_id session_date  mb_used\n",
       "84668    1395_33    1395   2018-12-25   132.63\n",
       "65090   1299_378    1299   2018-03-19   365.55"
      ]
     },
     "execution_count": 35,
     "metadata": {},
     "output_type": "execute_result"
    }
   ],
   "source": [
    "internet = internet.rename(columns ={'id':'session_id'})\n",
    "internet.sample(2)"
   ]
  },
  {
   "cell_type": "markdown",
   "metadata": {
    "id": "3UA2cqIW0q1E"
   },
   "source": [
    "## Estudiar las condiciones de las tarifas"
   ]
  },
  {
   "cell_type": "markdown",
   "metadata": {
    "id": "T86Sqltq0q1F"
   },
   "source": [
    "[Es sumamente importante entender cómo funcionan las tarifas, cómo se les cobra a los usuarios en función de su plan de suscripción. Así que te sugerimos imprimir la información de la tarifa para ver una vez más sus condiciones.]"
   ]
  },
  {
   "cell_type": "code",
   "execution_count": 36,
   "metadata": {
    "id": "i409op8p0q1F"
   },
   "outputs": [
    {
     "data": {
      "text/html": [
       "<div>\n",
       "<style scoped>\n",
       "    .dataframe tbody tr th:only-of-type {\n",
       "        vertical-align: middle;\n",
       "    }\n",
       "\n",
       "    .dataframe tbody tr th {\n",
       "        vertical-align: top;\n",
       "    }\n",
       "\n",
       "    .dataframe thead th {\n",
       "        text-align: right;\n",
       "    }\n",
       "</style>\n",
       "<table border=\"1\" class=\"dataframe\">\n",
       "  <thead>\n",
       "    <tr style=\"text-align: right;\">\n",
       "      <th></th>\n",
       "      <th>plan_name</th>\n",
       "      <th>messages_included</th>\n",
       "      <th>mb_per_month_included</th>\n",
       "      <th>minutes_included</th>\n",
       "      <th>usd_monthly_fee</th>\n",
       "      <th>usd_per_gb_extra</th>\n",
       "      <th>usd_per_message_extra</th>\n",
       "      <th>usd_per_minute_extra</th>\n",
       "    </tr>\n",
       "  </thead>\n",
       "  <tbody>\n",
       "    <tr>\n",
       "      <th>0</th>\n",
       "      <td>surf</td>\n",
       "      <td>50</td>\n",
       "      <td>15360</td>\n",
       "      <td>500</td>\n",
       "      <td>20</td>\n",
       "      <td>10</td>\n",
       "      <td>0.03</td>\n",
       "      <td>0.03</td>\n",
       "    </tr>\n",
       "    <tr>\n",
       "      <th>1</th>\n",
       "      <td>ultimate</td>\n",
       "      <td>1000</td>\n",
       "      <td>30720</td>\n",
       "      <td>3000</td>\n",
       "      <td>70</td>\n",
       "      <td>7</td>\n",
       "      <td>0.01</td>\n",
       "      <td>0.01</td>\n",
       "    </tr>\n",
       "  </tbody>\n",
       "</table>\n",
       "</div>"
      ],
      "text/plain": [
       "  plan_name  messages_included  mb_per_month_included  minutes_included  \\\n",
       "0      surf                 50                  15360               500   \n",
       "1  ultimate               1000                  30720              3000   \n",
       "\n",
       "   usd_monthly_fee  usd_per_gb_extra  usd_per_message_extra  \\\n",
       "0               20                10                   0.03   \n",
       "1               70                 7                   0.01   \n",
       "\n",
       "   usd_per_minute_extra  \n",
       "0                  0.03  \n",
       "1                  0.01  "
      ]
     },
     "execution_count": 36,
     "metadata": {},
     "output_type": "execute_result"
    }
   ],
   "source": [
    "# Imprime las condiciones de la tarifa y asegúrate de que te quedan claras\n",
    "plans.head(2)\n",
    "#plans.info()"
   ]
  },
  {
   "cell_type": "markdown",
   "metadata": {
    "id": "hMR1tP5d0q1F"
   },
   "source": [
    "## Agregar datos por usuario\n",
    "\n",
    "[Ahora que los datos están limpios, agrega los datos por usuario y por periodo para que solo haya un registro por usuario y por periodo. Esto facilitará mucho el análisis posterior.]"
   ]
  },
  {
   "cell_type": "code",
   "execution_count": 37,
   "metadata": {
    "id": "A332cedB0q1G"
   },
   "outputs": [
    {
     "name": "stdout",
     "output_type": "stream",
     "text": [
      "  user_id  month  num_calls\n",
      "0    1000     12         16\n",
      "1    1001      8         27\n",
      "2    1001      9         49\n",
      "3    1001     10         65\n",
      "4    1001     11         64\n",
      "5    1001     12         56\n",
      "6    1002     10         11\n",
      "7    1002     11         55\n",
      "8    1002     12         47\n",
      "9    1003     12        149\n"
     ]
    },
    {
     "data": {
      "text/html": [
       "<div>\n",
       "<style scoped>\n",
       "    .dataframe tbody tr th:only-of-type {\n",
       "        vertical-align: middle;\n",
       "    }\n",
       "\n",
       "    .dataframe tbody tr th {\n",
       "        vertical-align: top;\n",
       "    }\n",
       "\n",
       "    .dataframe thead th {\n",
       "        text-align: right;\n",
       "    }\n",
       "</style>\n",
       "<table border=\"1\" class=\"dataframe\">\n",
       "  <thead>\n",
       "    <tr style=\"text-align: right;\">\n",
       "      <th></th>\n",
       "      <th>call_id</th>\n",
       "      <th>user_id</th>\n",
       "      <th>call_date</th>\n",
       "      <th>call_duration</th>\n",
       "      <th>month</th>\n",
       "    </tr>\n",
       "  </thead>\n",
       "  <tbody>\n",
       "    <tr>\n",
       "      <th>42604</th>\n",
       "      <td>1156_209</td>\n",
       "      <td>1156</td>\n",
       "      <td>2018-08-05</td>\n",
       "      <td>6.95</td>\n",
       "      <td>8</td>\n",
       "    </tr>\n",
       "    <tr>\n",
       "      <th>8510</th>\n",
       "      <td>1039_450</td>\n",
       "      <td>1039</td>\n",
       "      <td>2018-11-24</td>\n",
       "      <td>1.17</td>\n",
       "      <td>11</td>\n",
       "    </tr>\n",
       "    <tr>\n",
       "      <th>42171</th>\n",
       "      <td>1155_121</td>\n",
       "      <td>1155</td>\n",
       "      <td>2018-07-09</td>\n",
       "      <td>11.37</td>\n",
       "      <td>7</td>\n",
       "    </tr>\n",
       "    <tr>\n",
       "      <th>80559</th>\n",
       "      <td>1291_159</td>\n",
       "      <td>1291</td>\n",
       "      <td>2018-05-31</td>\n",
       "      <td>14.02</td>\n",
       "      <td>5</td>\n",
       "    </tr>\n",
       "    <tr>\n",
       "      <th>136391</th>\n",
       "      <td>1494_233</td>\n",
       "      <td>1494</td>\n",
       "      <td>2018-09-12</td>\n",
       "      <td>0.00</td>\n",
       "      <td>9</td>\n",
       "    </tr>\n",
       "  </tbody>\n",
       "</table>\n",
       "</div>"
      ],
      "text/plain": [
       "         call_id user_id  call_date  call_duration  month\n",
       "42604   1156_209    1156 2018-08-05           6.95      8\n",
       "8510    1039_450    1039 2018-11-24           1.17     11\n",
       "42171   1155_121    1155 2018-07-09          11.37      7\n",
       "80559   1291_159    1291 2018-05-31          14.02      5\n",
       "136391  1494_233    1494 2018-09-12           0.00      9"
      ]
     },
     "execution_count": 37,
     "metadata": {},
     "output_type": "execute_result"
    }
   ],
   "source": [
    "calls['month'] = calls['call_date'].dt.month\n",
    "\n",
    "calls_per_month = calls.groupby(['user_id', 'month']).size().reset_index(name='num_calls')\n",
    "\n",
    "print(calls_per_month.head(10))\n",
    "calls.sample(5)"
   ]
  },
  {
   "cell_type": "code",
   "execution_count": 38,
   "metadata": {
    "id": "aw2cmuql0q1G"
   },
   "outputs": [
    {
     "name": "stdout",
     "output_type": "stream",
     "text": [
      "  user_id  month  call_duration\n",
      "0    1000     12         116.83\n",
      "1    1001      8         171.14\n",
      "2    1001      9         297.69\n",
      "3    1001     10         374.11\n",
      "4    1001     11         404.59\n",
      "5    1001     12         392.93\n",
      "6    1002     10          54.13\n",
      "7    1002     11         359.76\n",
      "8    1002     12         363.24\n",
      "9    1003     12        1041.00\n"
     ]
    }
   ],
   "source": [
    "# Calcula la cantidad de minutos usados por cada usuario al mes. Guarda el resultado.\n",
    "minutes_per_user = calls.groupby(['user_id','month'])['call_duration'].sum().reset_index()\n",
    "print(minutes_per_user.head(10))"
   ]
  },
  {
   "cell_type": "code",
   "execution_count": 39,
   "metadata": {
    "id": "CcQvNHn60q1G"
   },
   "outputs": [
    {
     "name": "stdout",
     "output_type": "stream",
     "text": [
      "  user_id  month  num_messages\n",
      "0    1000     12            11\n",
      "1    1001      8            30\n",
      "2    1001      9            44\n",
      "3    1001     10            53\n",
      "4    1001     11            36\n",
      "5    1001     12            44\n",
      "6    1002     10            15\n",
      "7    1002     11            32\n",
      "8    1002     12            41\n",
      "9    1003     12            50\n"
     ]
    },
    {
     "data": {
      "text/html": [
       "<div>\n",
       "<style scoped>\n",
       "    .dataframe tbody tr th:only-of-type {\n",
       "        vertical-align: middle;\n",
       "    }\n",
       "\n",
       "    .dataframe tbody tr th {\n",
       "        vertical-align: top;\n",
       "    }\n",
       "\n",
       "    .dataframe thead th {\n",
       "        text-align: right;\n",
       "    }\n",
       "</style>\n",
       "<table border=\"1\" class=\"dataframe\">\n",
       "  <thead>\n",
       "    <tr style=\"text-align: right;\">\n",
       "      <th></th>\n",
       "      <th>message_id</th>\n",
       "      <th>user_id</th>\n",
       "      <th>message_date</th>\n",
       "      <th>month</th>\n",
       "    </tr>\n",
       "  </thead>\n",
       "  <tbody>\n",
       "    <tr>\n",
       "      <th>24275</th>\n",
       "      <td>1145_130</td>\n",
       "      <td>1145</td>\n",
       "      <td>2018-08-05</td>\n",
       "      <td>8</td>\n",
       "    </tr>\n",
       "    <tr>\n",
       "      <th>56515</th>\n",
       "      <td>1357_141</td>\n",
       "      <td>1357</td>\n",
       "      <td>2018-09-18</td>\n",
       "      <td>9</td>\n",
       "    </tr>\n",
       "    <tr>\n",
       "      <th>56617</th>\n",
       "      <td>1357_325</td>\n",
       "      <td>1357</td>\n",
       "      <td>2018-09-30</td>\n",
       "      <td>9</td>\n",
       "    </tr>\n",
       "    <tr>\n",
       "      <th>57360</th>\n",
       "      <td>1362_442</td>\n",
       "      <td>1362</td>\n",
       "      <td>2018-03-22</td>\n",
       "      <td>3</td>\n",
       "    </tr>\n",
       "    <tr>\n",
       "      <th>27318</th>\n",
       "      <td>1167_275</td>\n",
       "      <td>1167</td>\n",
       "      <td>2018-11-14</td>\n",
       "      <td>11</td>\n",
       "    </tr>\n",
       "  </tbody>\n",
       "</table>\n",
       "</div>"
      ],
      "text/plain": [
       "      message_id user_id message_date  month\n",
       "24275   1145_130    1145   2018-08-05      8\n",
       "56515   1357_141    1357   2018-09-18      9\n",
       "56617   1357_325    1357   2018-09-30      9\n",
       "57360   1362_442    1362   2018-03-22      3\n",
       "27318   1167_275    1167   2018-11-14     11"
      ]
     },
     "execution_count": 39,
     "metadata": {},
     "output_type": "execute_result"
    }
   ],
   "source": [
    "# Calcula el número de mensajes enviados por cada usuario al mes. Guarda el resultado.\n",
    "messages['month'] = messages['message_date'].dt.month\n",
    "messages_per_month = messages.groupby(['user_id', 'month']).size().reset_index(name='num_messages')\n",
    "\n",
    "print(messages_per_month.head(10))\n",
    "messages.sample(5)"
   ]
  },
  {
   "cell_type": "code",
   "execution_count": 40,
   "metadata": {
    "id": "H1AqN2eG0q1H"
   },
   "outputs": [
    {
     "name": "stdout",
     "output_type": "stream",
     "text": [
      "  user_id  month  mb_used_per_month\n",
      "0    1000     12            1901.47\n",
      "1    1001      8            6919.15\n",
      "2    1001      9           13314.82\n",
      "3    1001     10           22330.49\n",
      "4    1001     11           18504.30\n",
      "5    1001     12           19369.18\n",
      "6    1002     10            6552.01\n",
      "7    1002     11           19345.08\n",
      "8    1002     12           14396.24\n",
      "9    1003     12           27044.14\n"
     ]
    },
    {
     "data": {
      "text/html": [
       "<div>\n",
       "<style scoped>\n",
       "    .dataframe tbody tr th:only-of-type {\n",
       "        vertical-align: middle;\n",
       "    }\n",
       "\n",
       "    .dataframe tbody tr th {\n",
       "        vertical-align: top;\n",
       "    }\n",
       "\n",
       "    .dataframe thead th {\n",
       "        text-align: right;\n",
       "    }\n",
       "</style>\n",
       "<table border=\"1\" class=\"dataframe\">\n",
       "  <thead>\n",
       "    <tr style=\"text-align: right;\">\n",
       "      <th></th>\n",
       "      <th>session_id</th>\n",
       "      <th>user_id</th>\n",
       "      <th>session_date</th>\n",
       "      <th>mb_used</th>\n",
       "      <th>month</th>\n",
       "    </tr>\n",
       "  </thead>\n",
       "  <tbody>\n",
       "    <tr>\n",
       "      <th>47177</th>\n",
       "      <td>1211_54</td>\n",
       "      <td>1211</td>\n",
       "      <td>2018-12-05</td>\n",
       "      <td>618.85</td>\n",
       "      <td>12</td>\n",
       "    </tr>\n",
       "    <tr>\n",
       "      <th>88559</th>\n",
       "      <td>1408_278</td>\n",
       "      <td>1408</td>\n",
       "      <td>2018-06-09</td>\n",
       "      <td>2.25</td>\n",
       "      <td>6</td>\n",
       "    </tr>\n",
       "    <tr>\n",
       "      <th>13104</th>\n",
       "      <td>1062_74</td>\n",
       "      <td>1062</td>\n",
       "      <td>2018-11-06</td>\n",
       "      <td>395.08</td>\n",
       "      <td>11</td>\n",
       "    </tr>\n",
       "    <tr>\n",
       "      <th>70376</th>\n",
       "      <td>1328_335</td>\n",
       "      <td>1328</td>\n",
       "      <td>2018-08-28</td>\n",
       "      <td>344.27</td>\n",
       "      <td>8</td>\n",
       "    </tr>\n",
       "    <tr>\n",
       "      <th>60419</th>\n",
       "      <td>1273_293</td>\n",
       "      <td>1273</td>\n",
       "      <td>2018-10-30</td>\n",
       "      <td>84.04</td>\n",
       "      <td>10</td>\n",
       "    </tr>\n",
       "  </tbody>\n",
       "</table>\n",
       "</div>"
      ],
      "text/plain": [
       "      session_id user_id session_date  mb_used  month\n",
       "47177    1211_54    1211   2018-12-05   618.85     12\n",
       "88559   1408_278    1408   2018-06-09     2.25      6\n",
       "13104    1062_74    1062   2018-11-06   395.08     11\n",
       "70376   1328_335    1328   2018-08-28   344.27      8\n",
       "60419   1273_293    1273   2018-10-30    84.04     10"
      ]
     },
     "execution_count": 40,
     "metadata": {},
     "output_type": "execute_result"
    }
   ],
   "source": [
    "# Calcula el volumen del tráfico de Internet usado por cada usuario al mes. Guarda el resultado.\n",
    "internet['month'] = internet['session_date'].dt.month\n",
    "mb_per_month = internet.groupby(['user_id', 'month'])['mb_used'].sum().reset_index(name='mb_used_per_month')\n",
    "\n",
    "print(mb_per_month.head(10))\n",
    "internet.sample(5)"
   ]
  },
  {
   "cell_type": "markdown",
   "metadata": {
    "id": "VDfYXnj80q1H"
   },
   "source": [
    "[Junta los datos agregados en un DataFrame para que haya un registro que represente lo que consumió un usuario único en un mes determinado.]"
   ]
  },
  {
   "cell_type": "code",
   "execution_count": 41,
   "metadata": {
    "id": "FW99ykyf0q1H"
   },
   "outputs": [
    {
     "data": {
      "text/html": [
       "<div>\n",
       "<style scoped>\n",
       "    .dataframe tbody tr th:only-of-type {\n",
       "        vertical-align: middle;\n",
       "    }\n",
       "\n",
       "    .dataframe tbody tr th {\n",
       "        vertical-align: top;\n",
       "    }\n",
       "\n",
       "    .dataframe thead th {\n",
       "        text-align: right;\n",
       "    }\n",
       "</style>\n",
       "<table border=\"1\" class=\"dataframe\">\n",
       "  <thead>\n",
       "    <tr style=\"text-align: right;\">\n",
       "      <th></th>\n",
       "      <th>user_id</th>\n",
       "      <th>month</th>\n",
       "      <th>mb_used_per_month</th>\n",
       "      <th>num_messages</th>\n",
       "      <th>call_duration</th>\n",
       "    </tr>\n",
       "  </thead>\n",
       "  <tbody>\n",
       "    <tr>\n",
       "      <th>53</th>\n",
       "      <td>1012</td>\n",
       "      <td>11</td>\n",
       "      <td>13935.03</td>\n",
       "      <td>0.0</td>\n",
       "      <td>71.42</td>\n",
       "    </tr>\n",
       "    <tr>\n",
       "      <th>386</th>\n",
       "      <td>1081</td>\n",
       "      <td>4</td>\n",
       "      <td>92.31</td>\n",
       "      <td>3.0</td>\n",
       "      <td>15.69</td>\n",
       "    </tr>\n",
       "    <tr>\n",
       "      <th>1921</th>\n",
       "      <td>1409</td>\n",
       "      <td>11</td>\n",
       "      <td>23534.62</td>\n",
       "      <td>29.0</td>\n",
       "      <td>254.06</td>\n",
       "    </tr>\n",
       "    <tr>\n",
       "      <th>666</th>\n",
       "      <td>1140</td>\n",
       "      <td>10</td>\n",
       "      <td>16832.50</td>\n",
       "      <td>16.0</td>\n",
       "      <td>825.87</td>\n",
       "    </tr>\n",
       "    <tr>\n",
       "      <th>2239</th>\n",
       "      <td>1490</td>\n",
       "      <td>8</td>\n",
       "      <td>39316.23</td>\n",
       "      <td>0.0</td>\n",
       "      <td>488.29</td>\n",
       "    </tr>\n",
       "  </tbody>\n",
       "</table>\n",
       "</div>"
      ],
      "text/plain": [
       "     user_id  month  mb_used_per_month  num_messages  call_duration\n",
       "53      1012     11           13935.03           0.0          71.42\n",
       "386     1081      4              92.31           3.0          15.69\n",
       "1921    1409     11           23534.62          29.0         254.06\n",
       "666     1140     10           16832.50          16.0         825.87\n",
       "2239    1490      8           39316.23           0.0         488.29"
      ]
     },
     "execution_count": 41,
     "metadata": {},
     "output_type": "execute_result"
    }
   ],
   "source": [
    "# Fusiona los datos de llamadas, minutos, mensajes e Internet con base en user_id y month\n",
    "fusion_1 = mb_per_month.merge(messages_per_month, on=['user_id', 'month'], how='outer')\n",
    "final_fusion = fusion_1.merge(minutes_per_user, on=['user_id', 'month'], how='outer' )\n",
    "final_fusion.fillna(0, inplace=True)\n",
    "final_fusion.sample(5)"
   ]
  },
  {
   "cell_type": "code",
   "execution_count": 42,
   "metadata": {
    "id": "0dNOXHag0q1H",
    "scrolled": true
   },
   "outputs": [
    {
     "name": "stdout",
     "output_type": "stream",
     "text": [
      "<class 'pandas.core.frame.DataFrame'>\n",
      "RangeIndex: 2293 entries, 0 to 2292\n",
      "Data columns (total 14 columns):\n",
      " #   Column                 Non-Null Count  Dtype  \n",
      "---  ------                 --------------  -----  \n",
      " 0   user_id                2293 non-null   object \n",
      " 1   month                  2293 non-null   int32  \n",
      " 2   mb_used_per_month      2293 non-null   float64\n",
      " 3   num_messages           2293 non-null   float64\n",
      " 4   call_duration          2293 non-null   float64\n",
      " 5   plan_name              2293 non-null   object \n",
      " 6   city                   2293 non-null   object \n",
      " 7   messages_included      2293 non-null   int64  \n",
      " 8   mb_per_month_included  2293 non-null   int64  \n",
      " 9   minutes_included       2293 non-null   int64  \n",
      " 10  usd_monthly_fee        2293 non-null   int64  \n",
      " 11  usd_per_gb_extra       2293 non-null   int64  \n",
      " 12  usd_per_message_extra  2293 non-null   float64\n",
      " 13  usd_per_minute_extra   2293 non-null   float64\n",
      "dtypes: float64(5), int32(1), int64(5), object(3)\n",
      "memory usage: 242.0+ KB\n"
     ]
    }
   ],
   "source": [
    "# Añade la información de la tarifa\n",
    "information_plan = users[['user_id','plan_name','city']].merge(plans, on='plan_name', how='inner')\n",
    "total_fusion = final_fusion.merge(information_plan, on='user_id', how='left')\n",
    "total_fusion.sample(5)\n",
    "total_fusion.info()"
   ]
  },
  {
   "cell_type": "markdown",
   "metadata": {
    "id": "1IwGo4wg0q1I"
   },
   "source": [
    "[Calcula los ingresos mensuales por usuario (resta el límite del paquete gratuito del número total de llamadas, mensajes de texto y datos; multiplica el resultado por el valor del plan de llamadas; añade la tarifa mensual en función del plan de llamadas). Nota: Dadas las condiciones del plan, ¡esto podría no ser tan trivial como un par de líneas! Así que no pasa nada si dedicas algo de tiempo a ello.]"
   ]
  },
  {
   "cell_type": "code",
   "execution_count": 57,
   "metadata": {
    "id": "5FGCf_c60q1I",
    "scrolled": true
   },
   "outputs": [
    {
     "name": "stdout",
     "output_type": "stream",
     "text": [
      "     user_id  month  pay_month plan_name\n",
      "2087    1451     11      70.00  ultimate\n",
      "2200    1477     12      70.00  ultimate\n",
      "1975    1421     12      61.11      surf\n",
      "1336    1285     12      20.00      surf\n",
      "1186    1252      6      20.00      surf\n"
     ]
    },
    {
     "data": {
      "text/html": [
       "<div>\n",
       "<style scoped>\n",
       "    .dataframe tbody tr th:only-of-type {\n",
       "        vertical-align: middle;\n",
       "    }\n",
       "\n",
       "    .dataframe tbody tr th {\n",
       "        vertical-align: top;\n",
       "    }\n",
       "\n",
       "    .dataframe thead th {\n",
       "        text-align: right;\n",
       "    }\n",
       "</style>\n",
       "<table border=\"1\" class=\"dataframe\">\n",
       "  <thead>\n",
       "    <tr style=\"text-align: right;\">\n",
       "      <th></th>\n",
       "      <th>user_id</th>\n",
       "      <th>month</th>\n",
       "      <th>mb_used_per_month</th>\n",
       "      <th>num_messages</th>\n",
       "      <th>call_duration</th>\n",
       "      <th>plan_name</th>\n",
       "      <th>city</th>\n",
       "      <th>messages_included</th>\n",
       "      <th>mb_per_month_included</th>\n",
       "      <th>minutes_included</th>\n",
       "      <th>usd_monthly_fee</th>\n",
       "      <th>usd_per_gb_extra</th>\n",
       "      <th>usd_per_message_extra</th>\n",
       "      <th>usd_per_minute_extra</th>\n",
       "      <th>minutes_extra</th>\n",
       "      <th>messages_extra</th>\n",
       "      <th>gb_internet_extra</th>\n",
       "      <th>extra_fee</th>\n",
       "      <th>pay_month</th>\n",
       "    </tr>\n",
       "  </thead>\n",
       "  <tbody>\n",
       "    <tr>\n",
       "      <th>65</th>\n",
       "      <td>1017</td>\n",
       "      <td>11</td>\n",
       "      <td>19093.04</td>\n",
       "      <td>29.0</td>\n",
       "      <td>362.34</td>\n",
       "      <td>surf</td>\n",
       "      <td>Washington-Arlington-Alexandria, DC-VA-MD-WV MSA</td>\n",
       "      <td>50</td>\n",
       "      <td>15360</td>\n",
       "      <td>500</td>\n",
       "      <td>20</td>\n",
       "      <td>10</td>\n",
       "      <td>0.03</td>\n",
       "      <td>0.03</td>\n",
       "      <td>0.0</td>\n",
       "      <td>0.0</td>\n",
       "      <td>4.0</td>\n",
       "      <td>40.0</td>\n",
       "      <td>60.0</td>\n",
       "    </tr>\n",
       "  </tbody>\n",
       "</table>\n",
       "</div>"
      ],
      "text/plain": [
       "   user_id  month  mb_used_per_month  num_messages  call_duration plan_name  \\\n",
       "65    1017     11           19093.04          29.0         362.34      surf   \n",
       "\n",
       "                                                city  messages_included  \\\n",
       "65  Washington-Arlington-Alexandria, DC-VA-MD-WV MSA                 50   \n",
       "\n",
       "    mb_per_month_included  minutes_included  usd_monthly_fee  \\\n",
       "65                  15360               500               20   \n",
       "\n",
       "    usd_per_gb_extra  usd_per_message_extra  usd_per_minute_extra  \\\n",
       "65                10                   0.03                  0.03   \n",
       "\n",
       "    minutes_extra  messages_extra  gb_internet_extra  extra_fee  pay_month  \n",
       "65            0.0             0.0                4.0       40.0       60.0  "
      ]
     },
     "execution_count": 57,
     "metadata": {},
     "output_type": "execute_result"
    }
   ],
   "source": [
    "# Calcula el ingreso mensual para cada usuario\n",
    "total_fusion['minutes_extra'] = total_fusion['call_duration'] - total_fusion['minutes_included']\n",
    "total_fusion['messages_extra'] = total_fusion['num_messages'] - total_fusion['messages_included']\n",
    "internet_extra = total_fusion['mb_used_per_month'] - total_fusion['mb_per_month_included']\n",
    "total_fusion['gb_internet_extra'] = (internet_extra/1024).apply(lambda x: max(0, np.ceil(x)))\n",
    "\n",
    "total_fusion[['minutes_extra','messages_extra','gb_internet_extra']] = total_fusion[['minutes_extra','messages_extra','gb_internet_extra']].clip(lower=0)\n",
    "total_fusion['extra_fee'] = (total_fusion['minutes_extra'] * total_fusion['usd_per_minute_extra'] +\n",
    "                           total_fusion['messages_extra'] * total_fusion['usd_per_message_extra'] +\n",
    "                           total_fusion['gb_internet_extra'] * total_fusion['usd_per_gb_extra'])\n",
    "\n",
    "total_fusion['pay_month'] = (total_fusion['extra_fee'] + total_fusion['usd_monthly_fee'])\n",
    "\n",
    "print(total_fusion[['user_id','month','pay_month','plan_name']].sample(5))\n",
    "total_fusion.sample()"
   ]
  },
  {
   "cell_type": "markdown",
   "metadata": {
    "id": "-jtyHzJb0q1I"
   },
   "source": [
    "## Estudia el comportamiento de usuario"
   ]
  },
  {
   "cell_type": "markdown",
   "metadata": {
    "id": "AxU3Y0N70q1J"
   },
   "source": [
    "[Calcula algunas estadísticas descriptivas para los datos agregados y fusionados que nos sean útiles y que muestren un panorama general captado por los datos. Dibuja gráficos útiles para facilitar la comprensión. Dado que la tarea principal es comparar las tarifas y decidir cuál es más rentable, las estadísticas y gráficas deben calcularse por tarifa.]\n",
    "\n",
    "[En los comentarios hallarás pistas relevantes para las llamadas, pero no las hay para los mensajes e Internet. Sin embargo, el principio del estudio estadístico que se aplica para ellos es el mismo que para las llamadas.]"
   ]
  },
  {
   "cell_type": "markdown",
   "metadata": {
    "id": "vtW4CJEe0q1J"
   },
   "source": [
    "### Llamadas"
   ]
  },
  {
   "cell_type": "code",
   "execution_count": 58,
   "metadata": {
    "id": "Jf5v5--k0q1J"
   },
   "outputs": [
    {
     "data": {
      "image/png": "[encoded data removed]",
      "text/plain": [
       "<Figure size 1000x600 with 1 Axes>"
      ]
     },
     "metadata": {},
     "output_type": "display_data"
    }
   ],
   "source": [
    "# Compara la duración promedio de llamadas por cada plan y por cada mes. Traza un gráfico de barras para visualizarla.\n",
    "avg_duration = total_fusion.groupby(['plan_name', 'month'])['call_duration'].mean().reset_index()\n",
    "\n",
    "plt.figure(figsize=(10, 6))\n",
    "sns.barplot(x='month', y='call_duration', hue='plan_name', palette=['c', '#87CEEB'], data=avg_duration)\n",
    "plt.xlabel('Mes')\n",
    "plt.ylabel('Duración promedio de llamadas (minutos)')\n",
    "plt.title('Comparación de duración promedio de llamadas por plan')\n",
    "plt.legend()\n",
    "plt.grid(axis='y', linestyle='--', alpha=0.6)\n",
    "plt.show()"
   ]
  },
  {
   "cell_type": "code",
   "execution_count": 45,
   "metadata": {
    "id": "QoLqW1S_0q1J"
   },
   "outputs": [
    {
     "data": {
      "image/png": "[encoded data removed]",
      "text/plain": [
       "<Figure size 1000x600 with 1 Axes>"
      ]
     },
     "metadata": {},
     "output_type": "display_data"
    }
   ],
   "source": [
    "# Filtrar minutos por plan\n",
    "monthly_minutes = total_fusion.groupby(['user_id','plan_name','month'])['call_duration'].sum().reset_index()\n",
    "surf_minutes = monthly_minutes[monthly_minutes['plan_name'] == 'surf']['call_duration']\n",
    "ultimate_minutes = monthly_minutes[monthly_minutes['plan_name'] == 'ultimate']['call_duration']\n",
    "\n",
    "plt.figure(figsize=(10, 6))\n",
    "plt.hist(surf_minutes, bins=20, alpha=0.5, label='surf', color='b', edgecolor='black')\n",
    "plt.hist(ultimate_minutes, bins=20, alpha=0.5, label='ultimate', color='green', edgecolor='black')\n",
    "plt.xlabel('Minutos usados por mes')\n",
    "plt.ylabel('Cantidad de usuarios')\n",
    "plt.title('Distribución de minutos utilizados por los usuarios de cada plan')\n",
    "plt.legend(title='Plan Name')\n",
    "plt.grid(axis='y', linestyle='--', alpha=0.7)\n",
    "plt.show()"
   ]
  },
  {
   "cell_type": "markdown",
   "metadata": {
    "id": "bLS9T8OH0q1K"
   },
   "source": [
    "[Calcula la media y la variable de la duración de las llamadas para averiguar si los usuarios de los distintos planes se comportan de forma diferente al realizar sus llamadas.]"
   ]
  },
  {
   "cell_type": "code",
   "execution_count": 46,
   "metadata": {
    "id": "oSndbAnt0q1K"
   },
   "outputs": [
    {
     "name": "stdout",
     "output_type": "stream",
     "text": [
      "Media de la duración mensual de llamadas: 405.21 minutos\n",
      "Varianza de la duración mensual de llamadas: 49900.20 minutos²\n",
      "Desviación estandar de la duración mensual de llamadas: 223.38 minutos\n",
      "\n",
      "Media de la duración de las llamadas para el plan Surf: 404.76\n",
      "Desviación estandar de la duración de las llamadas para el plan Surf: 221.59\n",
      "Media de la duración de las llamadas para el plan Ultimate: 406.19\n",
      "Desviación estandar de la duración de las llamadas para el plan Ultimate: 227.09\n"
     ]
    }
   ],
   "source": [
    "# Calcula la media y la varianza de la duración mensual de llamadas.\n",
    "monthly_minutes = total_fusion.groupby(['user_id', 'plan_name', 'month'])['call_duration'].sum().reset_index()\n",
    "med_duration = monthly_minutes['call_duration'].mean()\n",
    "var_duration = monthly_minutes['call_duration'].var()\n",
    "std = np.sqrt(var_duration)\n",
    "\n",
    "print(f'Media de la duración mensual de llamadas: {med_duration:.2f} minutos')\n",
    "print(f'Varianza de la duración mensual de llamadas: {var_duration:.2f} minutos²')\n",
    "print(f'Desviación estandar de la duración mensual de llamadas: {std:.2f} minutos')\n",
    "print()\n",
    "print(f'Media de la duración de las llamadas para el plan Surf: {surf_minutes.mean():.2f}')\n",
    "print(f'Desviación estandar de la duración de las llamadas para el plan Surf: {np.std(surf_minutes):.2f}')\n",
    "print(f'Media de la duración de las llamadas para el plan Ultimate: {ultimate_minutes.mean():.2f}')\n",
    "print(f'Desviación estandar de la duración de las llamadas para el plan Ultimate: {np.std(ultimate_minutes):.2f}')\n",
    "\n"
   ]
  },
  {
   "cell_type": "code",
   "execution_count": 47,
   "metadata": {
    "id": "nZzoRUKc0q1K"
   },
   "outputs": [
    {
     "data": {
      "image/png": "[encoded data removed]",
      "text/plain": [
       "<Figure size 1000x600 with 1 Axes>"
      ]
     },
     "metadata": {},
     "output_type": "display_data"
    }
   ],
   "source": [
    "# Traza un diagrama de caja para visualizar la distribución de la duración mensual de llamadas\n",
    "monthly_duration = total_fusion.groupby(['user_id', 'month'])['call_duration'].sum().reset_index()\n",
    "plt.figure(figsize=(10, 6))\n",
    "plt.boxplot(monthly_duration['call_duration'], vert=False, patch_artist=True)\n",
    "plt.xlabel(\"Duración mensual de llamadas (minutos)\")\n",
    "plt.title(\"Diagrama de caja de la duración mensual de llamadas\")\n",
    "plt.grid(True)\n",
    "plt.show()"
   ]
  },
  {
   "cell_type": "markdown",
   "metadata": {
    "id": "r627zBO50q1K"
   },
   "source": [
    "[Elabora las conclusiones sobre el comportamiento de los usuarios con respecto a las llamadas. ¿Su comportamiento varía en función del plan?]\n",
    "\n",
    "*El comportamiento de los usuarios respecto a las llamadas no difiere significativamente dependiendo los planes, realmente en cuanto al consumo de minutos se comportan de la misma manera, siguen una distribución con tendencia normal manteniendo la media entre 405 y 407 minutos con un sesgo positivo lo que indica que hay una menor cantidad de usuarios que usan más minutos que el promedio, la única diferencia marcada es en cuanto a la cantidad de usuarios de cada plan.*"
   ]
  },
  {
   "cell_type": "markdown",
   "metadata": {
    "id": "8idKy8Wh0q1L"
   },
   "source": [
    "### Mensajes"
   ]
  },
  {
   "cell_type": "code",
   "execution_count": 48,
   "metadata": {
    "id": "NXLxiTit0q1L"
   },
   "outputs": [
    {
     "data": {
      "image/png": "[encoded data removed]",
      "text/plain": [
       "<Figure size 1000x600 with 1 Axes>"
      ]
     },
     "metadata": {},
     "output_type": "display_data"
    }
   ],
   "source": [
    "# Comprara el número de mensajes que tienden a enviar cada mes los usuarios de cada plan\n",
    "monthly_messages = total_fusion.groupby(['user_id','plan_name','month'])['num_messages'].sum().reset_index()\n",
    "surf_messages = monthly_messages[monthly_messages['plan_name'] == 'surf']['num_messages']\n",
    "ultimate_messages = monthly_messages[monthly_messages['plan_name'] == 'ultimate']['num_messages']\n",
    "\n",
    "plt.figure(figsize=(10, 6))\n",
    "plt.hist(surf_messages, bins=20, alpha=0.5, label='surf', color='g', edgecolor='black')\n",
    "plt.hist(ultimate_messages, bins=20, alpha=0.5, label='ultimate', color='white', edgecolor='black')\n",
    "plt.xlabel('Mensajes usados por mes')\n",
    "plt.ylabel('Cantidad de usuarios')\n",
    "plt.title('Distribución de mensajes utilizados por los usuarios de cada plan')\n",
    "plt.legend(title='Plan Name')\n",
    "plt.grid(axis='y', linestyle='--', alpha=0.7)\n",
    "plt.show()"
   ]
  },
  {
   "cell_type": "markdown",
   "metadata": {
    "id": "390SSL480q1M"
   },
   "source": [
    "[Elabora las conclusiones sobre el comportamiento de los usuarios con respecto a los mensajes. ¿Su comportamiento varía en función del plan?]\n",
    "\n",
    "*El comportamiento de los usuarios a la hora de usar los mensajes de texto no varia respecto a cada plan que usan, se puede ver que para ambos planes el uso se distribuye con un sesgo a la derecha concentrando la mayoria de datos entre 0 y 10 mensajes aproximadamente, el promedio de mensajes usados es de 34 aproximadamente y teniendo una camtidad cada vez menor de usuarios que usan mayor cantidad de mensajes.*"
   ]
  },
  {
   "cell_type": "markdown",
   "metadata": {
    "id": "42YSypXz0q1M"
   },
   "source": [
    "### Internet"
   ]
  },
  {
   "cell_type": "code",
   "execution_count": 49,
   "metadata": {
    "id": "wnh8jYXi0q1N"
   },
   "outputs": [
    {
     "data": {
      "image/png": "[encoded data removed]",
      "text/plain": [
       "<Figure size 1000x600 with 1 Axes>"
      ]
     },
     "metadata": {},
     "output_type": "display_data"
    }
   ],
   "source": [
    "monthly_mb = total_fusion.groupby(['user_id','plan_name','month'])['mb_used_per_month'].sum().reset_index()\n",
    "surf_megabytes = monthly_mb[monthly_mb['plan_name'] == 'surf']['mb_used_per_month']\n",
    "ultimate_megabytes = monthly_mb[monthly_mb['plan_name'] == 'ultimate']['mb_used_per_month']\n",
    "\n",
    "plt.figure(figsize=(10, 6))\n",
    "plt.hist(surf_megabytes, bins=20, alpha=0.5, label='surf', color='c', edgecolor='black')\n",
    "plt.hist(ultimate_megabytes, bins=20, alpha=0.5, label='ultimate', color='white', edgecolor='black')\n",
    "plt.xlabel('Megabytes usadas por mes')\n",
    "plt.ylabel('Cantidad de usuarios')\n",
    "plt.title('Distribución de megabytes utilizadas por los usuarios de cada plan')\n",
    "plt.legend(title='Plan Name')\n",
    "plt.grid(axis='y', linestyle='--', alpha=0.7)\n",
    "plt.show()"
   ]
  },
  {
   "cell_type": "code",
   "execution_count": 50,
   "metadata": {},
   "outputs": [
    {
     "name": "stdout",
     "output_type": "stream",
     "text": [
      "Media de Gigabytes usadas plan Surf: 16.17 Gb.\n",
      "Desviación estandar de Gigabytes plan Surf: 7.82 Gb.\n",
      "Media de Gigabytes usadas plan Ultimate: 16.81 Gb.\n",
      "Desviación estandar de Gigabytes plan Ultimate: 7.66 Gb.\n"
     ]
    }
   ],
   "source": [
    "print(f'Media de Gigabytes usadas plan Surf: {surf_megabytes.mean()/1024:.2f} Gb.')\n",
    "print(f'Desviación estandar de Gigabytes plan Surf: {np.std(surf_megabytes)/1024:.2f} Gb.')\n",
    "print(f'Media de Gigabytes usadas plan Ultimate: {ultimate_megabytes.mean()/1024:.2f} Gb.')\n",
    "print(f'Desviación estandar de Gigabytes plan Ultimate: {np.std(ultimate_megabytes)/1024:.2f} Gb.')"
   ]
  },
  {
   "cell_type": "markdown",
   "metadata": {
    "id": "UN9zwuMP0q1N"
   },
   "source": [
    "[Elabora las conclusiones sobre cómo los usuarios tienden a consumir el tráfico de Internet. ¿Su comportamiento varía en función del plan?]\n",
    "\n",
    "*Según lo observado y los datos estadísticos calculados, el tráfico de internet tiende a seguir una distribución normal, encontrando la media de Gigabytes usadas en 17 Gb aproximadamente para ambos planes, así pues sin importar el tipo de plan los usuarios tienden a consumir el internet de la misma manera. Ahora bien existen algunos daatos atipicamente altos, estos son de usuarios que exedieron y generan datos extremos.*"
   ]
  },
  {
   "cell_type": "markdown",
   "metadata": {
    "id": "tCijq3260q1N"
   },
   "source": [
    "## Ingreso"
   ]
  },
  {
   "cell_type": "markdown",
   "metadata": {
    "id": "9nq5IAcy0q1O"
   },
   "source": [
    "[Del mismo modo que has estudiado el comportamiento de los usuarios, describe estadísticamente los ingresos de los planes.]"
   ]
  },
  {
   "cell_type": "code",
   "execution_count": 51,
   "metadata": {
    "id": "tz-dq_V00q1O"
   },
   "outputs": [
    {
     "data": {
      "image/png": "[encoded data removed]",
      "text/plain": [
       "<Figure size 1000x600 with 1 Axes>"
      ]
     },
     "metadata": {},
     "output_type": "display_data"
    }
   ],
   "source": [
    "monthly_mb = total_fusion.groupby(['user_id','plan_name','month'])['pay_month'].sum().reset_index()\n",
    "surf_pay = monthly_mb[monthly_mb['plan_name'] == 'surf']['pay_month']\n",
    "ultimate_pay = monthly_mb[monthly_mb['plan_name'] == 'ultimate']['pay_month']\n",
    "\n",
    "plt.figure(figsize=(10, 6))\n",
    "plt.hist(surf_pay, bins=20, alpha=0.5, label='surf', color='grey', edgecolor='black')\n",
    "plt.hist(ultimate_pay, bins=20, alpha=0.5, label='ultimate', color='r', edgecolor='black')\n",
    "plt.xlabel('Ingresos de los planes por mes (USD)')\n",
    "plt.ylabel('Cantidad de usuarios')\n",
    "plt.title('Distribución de los ingresos($) de los usuarios según cada plan')\n",
    "plt.legend(title='Plan Name')\n",
    "plt.grid(axis='y', linestyle='--', alpha=0.7)\n",
    "plt.show()"
   ]
  },
  {
   "cell_type": "code",
   "execution_count": 52,
   "metadata": {
    "id": "bYmwxyVh0q1P"
   },
   "outputs": [],
   "source": [
    "surf = total_fusion[total_fusion['plan_name'] == 'surf']['pay_month']\n",
    "ultimate = total_fusion[total_fusion['plan_name'] == 'ultimate']['pay_month']\n",
    "total_pay = total_fusion['pay_month']"
   ]
  },
  {
   "cell_type": "code",
   "execution_count": 53,
   "metadata": {
    "id": "0Y1v8ZUz0q1P"
   },
   "outputs": [
    {
     "name": "stdout",
     "output_type": "stream",
     "text": [
      "Promedio de los ingresos totales: $64.09\n",
      "Desviación estandar de los ingresos totales: $46.53\n",
      "\n",
      "Media de los ingresos del plan Surf: $60.33\n",
      "Desviación estandar de los ingresos del plan Surf: $55.25\n",
      "Media de los ingresos del plan Ultimate: $72.31\n",
      "Desviación estandar de los ingresos del plan Ultimate: $11.39\n",
      "\n",
      "El ingreso total es: $146960.92\n",
      "Ingreso anual por clientes Surf: $94894.92\n",
      "Ingreso anual por clientes Ultimate: $52066.00\n"
     ]
    }
   ],
   "source": [
    "print(f'Promedio de los ingresos totales: ${total_pay.mean():.2f}')\n",
    "print(f'Desviación estandar de los ingresos totales: ${np.std(total_pay):.2f}')\n",
    "print()\n",
    "print(f'Media de los ingresos del plan Surf: ${surf.mean():.2f}')\n",
    "print(f'Desviación estandar de los ingresos del plan Surf: ${np.std(surf):.2f}')\n",
    "print(f'Media de los ingresos del plan Ultimate: ${ultimate.mean():.2f}')\n",
    "print(f'Desviación estandar de los ingresos del plan Ultimate: ${np.std(ultimate):.2f}')\n",
    "print()\n",
    "print(f'El ingreso total es: ${total_pay.sum():.2f}')\n",
    "print(f'Ingreso anual por clientes Surf: ${surf.sum():.2f}')\n",
    "print(f'Ingreso anual por clientes Ultimate: ${ultimate.sum():.2f}')"
   ]
  },
  {
   "cell_type": "markdown",
   "metadata": {
    "id": "KAFidcXZ0q1P"
   },
   "source": [
    "[Elabora las conclusiones sobre cómo difiere el ingreso entre los planes.]\n"
   ]
  },
  {
   "cell_type": "markdown",
   "metadata": {},
   "source": [
    "*El análisis de los ingresos totales anuales revela que los usuarios del plan Surf generaron USD 94,894.92, mientras que los del plan Ultimate generaron USD 52,066.00. A pesar de que el plan Ultimate tiene una cuota mensual significativamente más alta (USD 70 frente a USD 20 de Surf), el ingreso total generado  por los usuarios de Surf es considerablemente superior. Esto puede deberse a una  mayor cantidad de usuarios en el plan Surf, o a que los usuarios de Surf tienden a exceder los límites de su plan con mayor frecuencia (lo que genera cargos adicionales), mientras que los usuarios de Ultimate podrían estar dentro del paquete incluido. En consecuencia, desde el punto de vista del ingreso total aportado a lo largo del año, \n",
    "el plan Surf representa una mayor fuente de ingresos para la empresa*"
   ]
  },
  {
   "cell_type": "markdown",
   "metadata": {
    "id": "ajJ7VKeI0q1Q"
   },
   "source": [
    "## Prueba las hipótesis estadísticas"
   ]
  },
  {
   "cell_type": "markdown",
   "metadata": {
    "id": "AdXAZ-yL0q1Q"
   },
   "source": [
    "[Prueba la hipótesis de que son diferentes los ingresos promedio procedentes de los usuarios de los planes de llamada Ultimate y Surf.]"
   ]
  },
  {
   "cell_type": "markdown",
   "metadata": {
    "id": "IQwa_hsh0q1Q"
   },
   "source": [
    "[Elabora las hipótesis nula y alternativa, escoge la prueba estadística, determina el valor alfa.]"
   ]
  },
  {
   "cell_type": "markdown",
   "metadata": {},
   "source": [
    "*Hipótesis nula (H₀): El ingreso promedio mensual de los usuarios de Surf es igual al de los usuarios de Ultimate.*\n",
    "\n",
    "*Hipótesis alternativa (H₁): El ingreso promedio mensual de los usuarios de Surf es diferente al de los usuarios de Ultimate*\n",
    "\n",
    "*Significancia del 5%*"
   ]
  },
  {
   "cell_type": "code",
   "execution_count": 54,
   "metadata": {
    "id": "nFoPNlPq0q1R"
   },
   "outputs": [
    {
     "name": "stdout",
     "output_type": "stream",
     "text": [
      "Valor p: 3.5320199509520717e-16\n",
      "¡Rechazamos la hipotesis nula!\n",
      "\n"
     ]
    }
   ],
   "source": [
    "# Prueba las hipótesis\n",
    "hip_surf = total_fusion[total_fusion['plan_name']=='surf']['pay_month']\n",
    "hip_ultimate = total_fusion[total_fusion['plan_name']=='ultimate']['pay_month']\n",
    "\n",
    "alpha = .05\n",
    "result = st.ttest_ind(hip_surf, hip_ultimate, equal_var=False)\n",
    "print('Valor p:', result.pvalue)\n",
    "\n",
    "if result.pvalue < alpha:\n",
    "    print('¡Rechazamos la hipotesis nula!')\n",
    "else: \n",
    "    print('No podemos rechazar la hipotesis nula')\n",
    "print()"
   ]
  },
  {
   "cell_type": "markdown",
   "metadata": {
    "id": "tCcAruM60q1R"
   },
   "source": [
    "[Prueba la hipótesis de que el ingreso promedio de los usuarios del área NY-NJ es diferente al de los usuarios de otras regiones.]"
   ]
  },
  {
   "cell_type": "markdown",
   "metadata": {
    "id": "LsBgitqj0q1R"
   },
   "source": [
    "[Elabora las hipótesis nula y alternativa, escoge la prueba estadística, determina el valor alfa.]"
   ]
  },
  {
   "cell_type": "markdown",
   "metadata": {},
   "source": [
    "*Hipótesis nula (H₀): El ingreso promedio mensual de los usuarios de Nueva York y Nueva Jersey es igual al de los usuarios del resto del país.*\n",
    "\n",
    "*Hipótesis alternativa (H₁): El ingreso promedio mensual de los usuarios de Nueva York y Nueva Jersey es diferente al del resto.*\n",
    "\n",
    "*Significancia de 5%*"
   ]
  },
  {
   "cell_type": "code",
   "execution_count": 55,
   "metadata": {
    "id": "Cqcj7wrZ0q1S"
   },
   "outputs": [
    {
     "name": "stdout",
     "output_type": "stream",
     "text": [
      "Valor p: 0.031214139070912725\n",
      "¡Rechazamos la hipótesis nula!\n"
     ]
    }
   ],
   "source": [
    "# Prueba las hipótesis\n",
    "ny_nj = total_fusion[total_fusion['city'].isin(['New York-Newark-Jersey City, NY-NJ-PA MSA'])]['pay_month']\n",
    "others = total_fusion[~total_fusion['city'].isin(['New York-Newark-Jersey City, NY-NJ-PA MSA'])]['pay_month']\n",
    "\n",
    "alpha = 0.05\n",
    "result = st.ttest_ind(ny_nj, others, equal_var=False)\n",
    "print('Valor p:', result.pvalue)\n",
    "\n",
    "if result.pvalue < alpha:\n",
    "    print('¡Rechazamos la hipótesis nula!')\n",
    "else:\n",
    "    print('¡No podemos rechazar la hipótesis nula!')"
   ]
  },
  {
   "cell_type": "markdown",
   "metadata": {
    "id": "bbTR8UQO0q1T"
   },
   "source": [
    "## Conclusión general\n",
    "\n",
    "[En esta sección final, enumera tus conclusiones importantes. Asegúrate de que estas abarquen todas las decisiones (suposiciones) importantes que adoptaste y que determinaron la forma elegida para procesar y analizar los datos.]\n",
    "\n",
    "*Se realizó un análisis detallado de los ingresos generados por las tarifas Surf y Ultimate, así como por regiones geográficas. A través de las pruebas estadísticas aplicadas, se obtuvieron los siguientes resultados:*\n",
    "\n",
    "**Comparación entre tarifas:**\n",
    "\n",
    "*Se comparó el ingreso mensual promedio de los clientes de los planes Surf y Ultimate. El valor p obtenido en la prueba fue menor que 0.05, por lo que se rechazó la hipótesis nula. Esto indica que hay una diferencia estadísticamente significativa entre los ingresos generados por cada tarifa. Y esto lo podemos confirmar a traves de las pruebas y análisis elaborados anteriormente acerca de los ingresos.*\n",
    "\n",
    "**Comparación por región:**\n",
    "\n",
    "*Se compararon los ingresos promedio entre usuarios de Nueva York y Nueva Jersey versus otras regiones. El valor p también fue menor que 0.05, por lo que nuevamente se rechaza la hipótesis nula. Esto sugiere que los ingresos promedio en NY/NJ son diferentes a los del resto del país, lo que puede reflejar diferencias en el uso del servicio o en las preferencias por tarifa.*\n",
    "\n",
    "**Ahora bien, a modo de recomendaciones generales:**\n",
    "\n",
    "*1- se podría invertir más en el plan Ultimate, ya que demuestra mayor rentabilidad por usuario, y como existen alguno usuarios del plan Surf que exedieron los límites del pan, ofrecerles la posibilidad de cambiar al plan Ultimate y todos sus beneficios podria ser atractivo.*\n",
    "\n",
    "*2- Analizar más a fondo por qué en ciertas regiones como Nueva York y Nueva Jersey los ingresos se comportan diferente: ¿es por mayor consumo? ¿preferencia de plan? o que otros factores pueden determinar esta situación.*\n",
    "\n",
    "*3- Explorar la posibilidad de crear un plan intermedio entre Surf y Ultimate para captar a los usuarios que hoy superan los límites de Surf, pero no están listos para pagar el costo del plan más alto.*"
   ]
  }
 ],
 "metadata": {
  "ExecuteTimeLog": [
   {
    "duration": 828,
    "start_time": "2021-11-16T09:21:11.304Z"
   },
   {
    "duration": 893,
    "start_time": "2021-11-16T09:21:17.728Z"
   },
   {
    "duration": 1150,
    "start_time": "2021-11-16T09:21:29.568Z"
   },
   {
    "duration": 3,
    "start_time": "2021-11-16T09:24:14.495Z"
   },
   {
    "duration": 120,
    "start_time": "2021-11-16T09:24:46.630Z"
   },
   {
    "duration": 3,
    "start_time": "2021-11-16T09:28:27.882Z"
   },
   {
    "duration": 4,
    "start_time": "2021-11-16T09:29:54.281Z"
   },
   {
    "duration": 3,
    "start_time": "2021-11-16T09:30:45.936Z"
   },
   {
    "duration": 4,
    "start_time": "2021-11-16T09:31:06.300Z"
   },
   {
    "duration": 113,
    "start_time": "2021-11-16T09:31:37.208Z"
   },
   {
    "duration": 143,
    "start_time": "2021-11-16T09:31:48.656Z"
   },
   {
    "duration": 98,
    "start_time": "2021-11-16T09:31:55.678Z"
   },
   {
    "duration": 3,
    "start_time": "2021-11-16T09:32:08.535Z"
   },
   {
    "duration": 111,
    "start_time": "2021-11-16T09:32:10.120Z"
   },
   {
    "duration": 3,
    "start_time": "2021-11-16T09:32:15.732Z"
   },
   {
    "duration": 4,
    "start_time": "2021-11-16T09:32:29.423Z"
   },
   {
    "duration": 3,
    "start_time": "2021-11-16T10:03:03.074Z"
   },
   {
    "duration": 3,
    "start_time": "2021-11-16T10:10:01.288Z"
   },
   {
    "duration": 3,
    "start_time": "2021-11-16T10:10:46.923Z"
   },
   {
    "duration": 121,
    "start_time": "2021-11-16T10:37:46.494Z"
   },
   {
    "duration": 125,
    "start_time": "2021-11-16T10:38:20.632Z"
   },
   {
    "duration": 112,
    "start_time": "2021-11-16T10:46:53.001Z"
   },
   {
    "duration": 110,
    "start_time": "2021-11-16T10:48:25.775Z"
   },
   {
    "duration": 3,
    "start_time": "2021-11-16T10:50:18.720Z"
   },
   {
    "duration": 4,
    "start_time": "2021-11-16T10:50:37.649Z"
   },
   {
    "duration": 2,
    "start_time": "2021-11-16T10:50:51.884Z"
   },
   {
    "duration": 3,
    "start_time": "2021-11-16T10:51:56.237Z"
   },
   {
    "duration": 101,
    "start_time": "2021-11-16T10:53:13.791Z"
   },
   {
    "duration": 3,
    "start_time": "2021-11-16T10:55:59.186Z"
   },
   {
    "duration": 3,
    "start_time": "2021-11-16T10:56:10.751Z"
   },
   {
    "duration": 3,
    "start_time": "2021-11-16T10:56:49.038Z"
   },
   {
    "duration": 3,
    "start_time": "2021-11-16T10:56:49.174Z"
   },
   {
    "duration": 4,
    "start_time": "2021-11-16T10:56:49.414Z"
   },
   {
    "duration": 3,
    "start_time": "2021-11-16T10:56:49.680Z"
   },
   {
    "duration": 3,
    "start_time": "2021-11-16T10:56:50.370Z"
   },
   {
    "duration": 114,
    "start_time": "2021-11-16T10:59:34.518Z"
   },
   {
    "duration": 3,
    "start_time": "2021-11-16T11:01:41.201Z"
   },
   {
    "duration": 116,
    "start_time": "2021-11-16T11:01:48.754Z"
   },
   {
    "duration": 3,
    "start_time": "2021-11-16T11:02:16.685Z"
   },
   {
    "duration": 3,
    "start_time": "2021-11-16T11:02:19.479Z"
   },
   {
    "duration": 3,
    "start_time": "2021-11-16T11:02:47.067Z"
   },
   {
    "duration": 3,
    "start_time": "2021-11-16T11:02:49.353Z"
   },
   {
    "duration": 3,
    "start_time": "2021-11-16T11:03:07.835Z"
   },
   {
    "duration": 3,
    "start_time": "2021-11-16T11:03:07.953Z"
   },
   {
    "duration": 112,
    "start_time": "2021-11-16T11:07:52.072Z"
   },
   {
    "duration": 187,
    "start_time": "2021-11-16T11:09:23.468Z"
   },
   {
    "duration": 4,
    "start_time": "2021-11-16T11:10:01.455Z"
   },
   {
    "duration": 3,
    "start_time": "2021-11-16T11:10:05.069Z"
   },
   {
    "duration": 4,
    "start_time": "2021-11-16T11:10:13.376Z"
   },
   {
    "duration": 3,
    "start_time": "2021-11-16T11:10:14.434Z"
   },
   {
    "duration": 3,
    "start_time": "2021-11-16T11:10:22.853Z"
   },
   {
    "duration": 4,
    "start_time": "2021-11-16T11:27:29.279Z"
   },
   {
    "duration": 4,
    "start_time": "2021-11-16T11:29:08.919Z"
   },
   {
    "duration": 118,
    "start_time": "2021-11-16T11:29:46.703Z"
   },
   {
    "duration": 437,
    "start_time": "2021-11-16T11:36:02.181Z"
   },
   {
    "duration": 157,
    "start_time": "2021-11-16T11:36:14.388Z"
   },
   {
    "duration": 207,
    "start_time": "2021-11-16T11:47:15.898Z"
   },
   {
    "duration": 3,
    "start_time": "2021-11-16T11:53:52.092Z"
   },
   {
    "duration": 3,
    "start_time": "2021-11-16T11:53:52.236Z"
   },
   {
    "duration": 3,
    "start_time": "2021-11-16T11:59:12.005Z"
   },
   {
    "duration": 112,
    "start_time": "2021-11-16T12:00:33.446Z"
   },
   {
    "duration": 3,
    "start_time": "2021-11-16T12:02:14.453Z"
   },
   {
    "duration": 3,
    "start_time": "2021-11-16T12:02:39.512Z"
   },
   {
    "duration": 106,
    "start_time": "2021-11-16T12:03:03.460Z"
   },
   {
    "duration": 3,
    "start_time": "2021-11-17T20:37:21.139Z"
   },
   {
    "duration": 3,
    "start_time": "2021-11-17T20:37:22.229Z"
   },
   {
    "duration": 3,
    "start_time": "2021-11-17T20:38:38.806Z"
   },
   {
    "duration": 3,
    "start_time": "2021-11-17T20:38:41.958Z"
   },
   {
    "duration": 3,
    "start_time": "2021-11-17T20:43:46.551Z"
   },
   {
    "duration": 4,
    "start_time": "2021-11-17T20:58:21.835Z"
   },
   {
    "duration": 3,
    "start_time": "2021-11-17T20:59:21.872Z"
   },
   {
    "duration": 4,
    "start_time": "2021-11-17T20:59:45.352Z"
   },
   {
    "duration": 4,
    "start_time": "2021-11-17T20:59:49.646Z"
   },
   {
    "duration": 159,
    "start_time": "2021-11-17T21:02:26.949Z"
   },
   {
    "duration": 3,
    "start_time": "2021-11-17T21:03:53.461Z"
   },
   {
    "duration": 3,
    "start_time": "2021-11-17T21:03:53.694Z"
   },
   {
    "duration": 3,
    "start_time": "2021-11-17T21:05:28.145Z"
   },
   {
    "duration": 116,
    "start_time": "2021-11-17T21:05:57.787Z"
   },
   {
    "duration": 3,
    "start_time": "2021-11-17T21:06:37.993Z"
   },
   {
    "duration": 3,
    "start_time": "2021-11-17T21:06:38.261Z"
   },
   {
    "duration": 3,
    "start_time": "2021-11-17T21:11:54.358Z"
   },
   {
    "duration": 3,
    "start_time": "2021-11-17T21:12:43.846Z"
   },
   {
    "duration": 4,
    "start_time": "2021-11-17T21:13:08.773Z"
   },
   {
    "duration": 3,
    "start_time": "2021-11-17T21:14:44.441Z"
   },
   {
    "duration": 3,
    "start_time": "2021-11-17T21:15:42.059Z"
   },
   {
    "duration": 4,
    "start_time": "2021-11-17T21:15:51.995Z"
   },
   {
    "duration": 3,
    "start_time": "2021-11-17T21:15:53.923Z"
   },
   {
    "duration": 3,
    "start_time": "2021-11-17T21:15:55.282Z"
   },
   {
    "duration": 3,
    "start_time": "2021-11-17T21:16:28.492Z"
   },
   {
    "duration": 3,
    "start_time": "2021-11-17T21:16:32.603Z"
   },
   {
    "duration": 3,
    "start_time": "2021-11-17T21:17:06.941Z"
   },
   {
    "duration": 98,
    "start_time": "2021-11-17T21:18:05.733Z"
   },
   {
    "duration": 4,
    "start_time": "2021-11-17T21:21:35.255Z"
   },
   {
    "duration": 3,
    "start_time": "2021-11-17T21:21:37.804Z"
   },
   {
    "duration": 4,
    "start_time": "2021-11-17T21:23:06.071Z"
   },
   {
    "duration": 3,
    "start_time": "2021-11-17T21:23:24.799Z"
   },
   {
    "duration": 3,
    "start_time": "2021-11-17T21:23:32.591Z"
   },
   {
    "duration": 98,
    "start_time": "2021-11-17T21:28:31.559Z"
   },
   {
    "duration": 3,
    "start_time": "2021-11-17T21:28:45.448Z"
   },
   {
    "duration": 3,
    "start_time": "2021-11-17T21:29:17.303Z"
   },
   {
    "duration": 3,
    "start_time": "2021-11-17T21:29:29.617Z"
   },
   {
    "duration": 3,
    "start_time": "2021-11-17T21:29:32.681Z"
   },
   {
    "duration": 3,
    "start_time": "2021-11-17T21:36:11.474Z"
   },
   {
    "duration": 3,
    "start_time": "2021-11-17T21:36:14.791Z"
   },
   {
    "duration": 3,
    "start_time": "2021-11-17T21:36:53.943Z"
   },
   {
    "duration": 3,
    "start_time": "2021-11-17T21:36:56.165Z"
   },
   {
    "duration": 4,
    "start_time": "2021-11-17T21:37:16.590Z"
   },
   {
    "duration": 3,
    "start_time": "2021-11-17T21:37:22.702Z"
   },
   {
    "duration": 4,
    "start_time": "2021-11-17T21:38:03.479Z"
   },
   {
    "duration": 3,
    "start_time": "2021-11-17T21:38:08.601Z"
   },
   {
    "duration": 3,
    "start_time": "2021-11-17T21:38:12.928Z"
   },
   {
    "duration": 3,
    "start_time": "2021-11-17T21:38:48.896Z"
   },
   {
    "duration": 2,
    "start_time": "2021-11-17T21:38:49.171Z"
   },
   {
    "duration": 4,
    "start_time": "2021-11-17T21:39:57.889Z"
   },
   {
    "duration": 3,
    "start_time": "2021-11-17T21:39:58.057Z"
   },
   {
    "duration": 3,
    "start_time": "2021-11-17T21:41:20.108Z"
   },
   {
    "duration": 3,
    "start_time": "2021-11-17T21:41:20.629Z"
   },
   {
    "duration": 3,
    "start_time": "2021-11-17T21:42:49.136Z"
   },
   {
    "duration": 3,
    "start_time": "2021-11-17T21:43:15.137Z"
   },
   {
    "duration": 4,
    "start_time": "2021-11-17T21:43:16.766Z"
   },
   {
    "duration": 4,
    "start_time": "2021-11-17T21:43:31.711Z"
   },
   {
    "duration": 3,
    "start_time": "2021-11-17T21:43:36.312Z"
   },
   {
    "duration": 4,
    "start_time": "2021-11-17T21:45:08.825Z"
   },
   {
    "duration": 4,
    "start_time": "2021-11-17T21:45:10.119Z"
   },
   {
    "duration": 4,
    "start_time": "2021-11-17T21:45:13.748Z"
   },
   {
    "duration": 3,
    "start_time": "2021-11-17T21:45:22.219Z"
   },
   {
    "duration": 3,
    "start_time": "2021-11-17T21:45:33.412Z"
   },
   {
    "duration": 2,
    "start_time": "2021-11-17T21:46:01.885Z"
   },
   {
    "duration": 3,
    "start_time": "2021-11-17T21:46:03.628Z"
   },
   {
    "duration": 107,
    "start_time": "2021-11-17T21:47:32.512Z"
   },
   {
    "duration": 103,
    "start_time": "2021-11-17T21:50:36.243Z"
   },
   {
    "duration": 3,
    "start_time": "2021-11-18T06:28:31.440Z"
   },
   {
    "duration": 3,
    "start_time": "2021-11-18T06:29:00.168Z"
   },
   {
    "duration": 3,
    "start_time": "2021-11-18T06:31:27.008Z"
   },
   {
    "duration": 2,
    "start_time": "2021-11-18T06:35:34.288Z"
   },
   {
    "duration": 2,
    "start_time": "2021-11-18T06:38:04.527Z"
   }
  ],
  "colab": {
   "provenance": []
  },
  "kernelspec": {
   "display_name": "base",
   "language": "python",
   "name": "python3"
  },
  "language_info": {
   "codemirror_mode": {
    "name": "ipython",
    "version": 3
   },
   "file_extension": ".py",
   "mimetype": "text/x-python",
   "name": "python",
   "nbconvert_exporter": "python",
   "pygments_lexer": "ipython3",
   "version": "3.13.5"
  },
  "toc": {
   "base_numbering": 1,
   "nav_menu": {},
   "number_sections": true,
   "sideBar": true,
   "skip_h1_title": false,
   "title_cell": "Table of Contents",
   "title_sidebar": "Contents",
   "toc_cell": false,
   "toc_position": {},
   "toc_section_display": true,
   "toc_window_display": true
  }
 },
 "nbformat": 4,
 "nbformat_minor": 4
}
